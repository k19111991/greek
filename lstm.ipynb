{
 "cells": [
  {
   "cell_type": "code",
   "execution_count": 2,
   "metadata": {},
   "outputs": [
    {
     "name": "stderr",
     "output_type": "stream",
     "text": [
      "/usr/local/lib/python3.5/dist-packages/h5py/__init__.py:36: FutureWarning: Conversion of the second argument of issubdtype from `float` to `np.floating` is deprecated. In future, it will be treated as `np.float64 == np.dtype(float).type`.\n",
      "  from ._conv import register_converters as _register_converters\n",
      "Using TensorFlow backend.\n"
     ]
    }
   ],
   "source": [
    "import numpy as np\n",
    "import pandas as pd\n",
    "import matplotlib.pyplot as plt\n",
    "import sklearn\n",
    "from keras.models import Sequential\n",
    "from keras.layers import Dense, Dropout, Activation, Flatten, LSTM, TimeDistributed, RepeatVector, RNN, SimpleRNN\n",
    "from keras.layers.normalization import BatchNormalization\n",
    "from keras.optimizers import Adam\n",
    "from keras.callbacks import EarlyStopping, ModelCheckpoint\n",
    "import matplotlib.pyplot as plt\n",
    "%matplotlib inline"
   ]
  },
  {
   "cell_type": "code",
   "execution_count": 3,
   "metadata": {},
   "outputs": [
    {
     "data": {
      "text/plain": [
       "1267529"
      ]
     },
     "execution_count": 3,
     "metadata": {},
     "output_type": "execute_result"
    }
   ],
   "source": [
    "df = pd.read_csv(\"./TXF1_2017.txt\")\n",
    "len(df)"
   ]
  },
  {
   "cell_type": "code",
   "execution_count": 4,
   "metadata": {},
   "outputs": [
    {
     "data": {
      "text/html": [
       "<div>\n",
       "<style scoped>\n",
       "    .dataframe tbody tr th:only-of-type {\n",
       "        vertical-align: middle;\n",
       "    }\n",
       "\n",
       "    .dataframe tbody tr th {\n",
       "        vertical-align: top;\n",
       "    }\n",
       "\n",
       "    .dataframe thead th {\n",
       "        text-align: right;\n",
       "    }\n",
       "</style>\n",
       "<table border=\"1\" class=\"dataframe\">\n",
       "  <thead>\n",
       "    <tr style=\"text-align: right;\">\n",
       "      <th></th>\n",
       "      <th>Date</th>\n",
       "      <th>Time</th>\n",
       "      <th>Open</th>\n",
       "      <th>High</th>\n",
       "      <th>Low</th>\n",
       "      <th>Close</th>\n",
       "      <th>Volume</th>\n",
       "    </tr>\n",
       "  </thead>\n",
       "  <tbody>\n",
       "    <tr>\n",
       "      <th>1267524</th>\n",
       "      <td>2017/7/21</td>\n",
       "      <td>13:41:00</td>\n",
       "      <td>10330</td>\n",
       "      <td>10330</td>\n",
       "      <td>10327</td>\n",
       "      <td>10327</td>\n",
       "      <td>586</td>\n",
       "    </tr>\n",
       "    <tr>\n",
       "      <th>1267525</th>\n",
       "      <td>2017/7/21</td>\n",
       "      <td>13:42:00</td>\n",
       "      <td>10328</td>\n",
       "      <td>10329</td>\n",
       "      <td>10327</td>\n",
       "      <td>10329</td>\n",
       "      <td>378</td>\n",
       "    </tr>\n",
       "    <tr>\n",
       "      <th>1267526</th>\n",
       "      <td>2017/7/21</td>\n",
       "      <td>13:43:00</td>\n",
       "      <td>10329</td>\n",
       "      <td>10330</td>\n",
       "      <td>10328</td>\n",
       "      <td>10329</td>\n",
       "      <td>404</td>\n",
       "    </tr>\n",
       "    <tr>\n",
       "      <th>1267527</th>\n",
       "      <td>2017/7/21</td>\n",
       "      <td>13:44:00</td>\n",
       "      <td>10329</td>\n",
       "      <td>10329</td>\n",
       "      <td>10328</td>\n",
       "      <td>10329</td>\n",
       "      <td>481</td>\n",
       "    </tr>\n",
       "    <tr>\n",
       "      <th>1267528</th>\n",
       "      <td>2017/7/21</td>\n",
       "      <td>13:45:00</td>\n",
       "      <td>10328</td>\n",
       "      <td>10330</td>\n",
       "      <td>10327</td>\n",
       "      <td>10329</td>\n",
       "      <td>1040</td>\n",
       "    </tr>\n",
       "  </tbody>\n",
       "</table>\n",
       "</div>"
      ],
      "text/plain": [
       "              Date      Time   Open   High    Low  Close  Volume\n",
       "1267524  2017/7/21  13:41:00  10330  10330  10327  10327     586\n",
       "1267525  2017/7/21  13:42:00  10328  10329  10327  10329     378\n",
       "1267526  2017/7/21  13:43:00  10329  10330  10328  10329     404\n",
       "1267527  2017/7/21  13:44:00  10329  10329  10328  10329     481\n",
       "1267528  2017/7/21  13:45:00  10328  10330  10327  10329    1040"
      ]
     },
     "execution_count": 4,
     "metadata": {},
     "output_type": "execute_result"
    }
   ],
   "source": [
    "df.iloc[-5:]"
   ]
  },
  {
   "cell_type": "code",
   "execution_count": 5,
   "metadata": {},
   "outputs": [],
   "source": [
    "def augFeatures(df):\n",
    "    df['MA5'] = pd.rolling_mean(df['Close'], 5)\n",
    "    df['MA10'] = pd.rolling_mean(df['Close'], 10)\n",
    "    df['MA20'] = pd.rolling_mean(df['Close'], 20)\n",
    "    df['RSV'] = (df['Close'] - pd.rolling_min(df['Low'], 9)) / (pd.rolling_max(df['High'], 9) - pd.rolling_min(df['Low'], 9))\n",
    "    df['K'] = pd.ewma(df['RSV'], adjust=False, alpha=1/3)\n",
    "    df['D'] = pd.ewma(df['K'], adjust=False, alpha=1/3)\n",
    "    TR = pd.concat([df[['High', 'Low']], df['Close'].shift(1)], axis=1, ignore_index=True)\n",
    "    df['TR'] = TR.max(axis=1) - TR.min(axis=1)\n",
    "    df['ATR'] = pd.ewma(df['TR'], adjust=False, alpha=1/15)\n",
    "    df['TRMA'] = pd.rolling_mean(df['TR'], 15)\n",
    "    df['DM_P'] = np.where((df['High'] - df['High'].shift(1)) > 0, df['High'] - df['High'].shift(1), 0) # +DM\n",
    "    df['DM_N'] = np.where((df['Low'] - df['Low'].shift(1)) < 0, df['Low'].shift(1) - df['Low'], 0)     # -DM\n",
    "    df['ADM_P'] = pd.ewma(df['DM_P'], adjust=False, alpha=1/15)\n",
    "    df['ADM_N'] = pd.ewma(df['DM_N'], adjust=False, alpha=1/15)\n",
    "    df['DX'] = ((df['ADM_P'] - df['ADM_N']) / (df['ADM_P'] + df['ADM_N'])).abs() * 100\n",
    "    df['ADX'] = pd.ewma(df['DX'], adjust=False, alpha=1/15)\n",
    "    return df"
   ]
  },
  {
   "cell_type": "code",
   "execution_count": 6,
   "metadata": {},
   "outputs": [],
   "source": [
    "def normalize(train):\n",
    "    train = train.drop([\"Date\", \"Time\", \"Volume\"], axis=1)[50:]\n",
    "    train_norm = train.apply(lambda x: (x - np.mean(x)) / (np.max(x) - np.min(x)))\n",
    "    return train_norm, train"
   ]
  },
  {
   "cell_type": "code",
   "execution_count": 7,
   "metadata": {},
   "outputs": [],
   "source": [
    "def buildTrain(train, pastDay=10, futureDay=1):\n",
    "    X_train, Y_train = [], []\n",
    "    for i in range(train.shape[0]-futureDay-pastDay):\n",
    "        X_train.append(np.array(train.iloc[i:i+pastDay]))\n",
    "        Y_train.append(np.array(train.iloc[i+pastDay:i+pastDay+futureDay][\"Close\"]))\n",
    "    return np.array(X_train), np.array(Y_train)"
   ]
  },
  {
   "cell_type": "code",
   "execution_count": 8,
   "metadata": {},
   "outputs": [],
   "source": [
    "def splitData(X,Y,rate=0.1, train=0.8):\n",
    "    X_train = X[int(X.shape[0]*rate):int(X.shape[0]*train)]\n",
    "    Y_train = Y[int(Y.shape[0]*rate):int(Y.shape[0]*train)]\n",
    "    X_predict = X[int(X.shape[0]*train):]\n",
    "    Y_predict = Y[int(Y.shape[0]*train):]\n",
    "    X_val = X[:int(X.shape[0]*rate)]\n",
    "    Y_val = Y[:int(Y.shape[0]*rate)]\n",
    "    return X_train, Y_train, X_val, Y_val, X_predict, Y_predict"
   ]
  },
  {
   "cell_type": "code",
   "execution_count": 9,
   "metadata": {},
   "outputs": [],
   "source": [
    "def unnormalize(y, mean, std):\n",
    "    return y*std + mean    "
   ]
  },
  {
   "cell_type": "markdown",
   "metadata": {},
   "source": [
    "# preprocessing"
   ]
  },
  {
   "cell_type": "code",
   "execution_count": 34,
   "metadata": {},
   "outputs": [
    {
     "name": "stderr",
     "output_type": "stream",
     "text": [
      "/usr/local/lib/python3.5/dist-packages/ipykernel_launcher.py:2: FutureWarning: pd.rolling_mean is deprecated for Series and will be removed in a future version, replace with \n",
      "\tSeries.rolling(center=False,window=5).mean()\n",
      "  \n",
      "/usr/local/lib/python3.5/dist-packages/ipykernel_launcher.py:2: SettingWithCopyWarning: \n",
      "A value is trying to be set on a copy of a slice from a DataFrame.\n",
      "Try using .loc[row_indexer,col_indexer] = value instead\n",
      "\n",
      "See the caveats in the documentation: http://pandas.pydata.org/pandas-docs/stable/indexing.html#indexing-view-versus-copy\n",
      "  \n",
      "/usr/local/lib/python3.5/dist-packages/ipykernel_launcher.py:3: FutureWarning: pd.rolling_mean is deprecated for Series and will be removed in a future version, replace with \n",
      "\tSeries.rolling(center=False,window=10).mean()\n",
      "  This is separate from the ipykernel package so we can avoid doing imports until\n",
      "/usr/local/lib/python3.5/dist-packages/ipykernel_launcher.py:3: SettingWithCopyWarning: \n",
      "A value is trying to be set on a copy of a slice from a DataFrame.\n",
      "Try using .loc[row_indexer,col_indexer] = value instead\n",
      "\n",
      "See the caveats in the documentation: http://pandas.pydata.org/pandas-docs/stable/indexing.html#indexing-view-versus-copy\n",
      "  This is separate from the ipykernel package so we can avoid doing imports until\n",
      "/usr/local/lib/python3.5/dist-packages/ipykernel_launcher.py:4: FutureWarning: pd.rolling_mean is deprecated for Series and will be removed in a future version, replace with \n",
      "\tSeries.rolling(center=False,window=20).mean()\n",
      "  after removing the cwd from sys.path.\n",
      "/usr/local/lib/python3.5/dist-packages/ipykernel_launcher.py:4: SettingWithCopyWarning: \n",
      "A value is trying to be set on a copy of a slice from a DataFrame.\n",
      "Try using .loc[row_indexer,col_indexer] = value instead\n",
      "\n",
      "See the caveats in the documentation: http://pandas.pydata.org/pandas-docs/stable/indexing.html#indexing-view-versus-copy\n",
      "  after removing the cwd from sys.path.\n",
      "/usr/local/lib/python3.5/dist-packages/ipykernel_launcher.py:5: FutureWarning: pd.rolling_min is deprecated for Series and will be removed in a future version, replace with \n",
      "\tSeries.rolling(center=False,window=9).min()\n",
      "  \"\"\"\n",
      "/usr/local/lib/python3.5/dist-packages/ipykernel_launcher.py:5: FutureWarning: pd.rolling_max is deprecated for Series and will be removed in a future version, replace with \n",
      "\tSeries.rolling(center=False,window=9).max()\n",
      "  \"\"\"\n",
      "/usr/local/lib/python3.5/dist-packages/ipykernel_launcher.py:5: SettingWithCopyWarning: \n",
      "A value is trying to be set on a copy of a slice from a DataFrame.\n",
      "Try using .loc[row_indexer,col_indexer] = value instead\n",
      "\n",
      "See the caveats in the documentation: http://pandas.pydata.org/pandas-docs/stable/indexing.html#indexing-view-versus-copy\n",
      "  \"\"\"\n",
      "/usr/local/lib/python3.5/dist-packages/ipykernel_launcher.py:6: FutureWarning: pd.ewm_mean is deprecated for Series and will be removed in a future version, replace with \n",
      "\tSeries.ewm(min_periods=0,ignore_na=False,adjust=False,alpha=0.3333333333333333).mean()\n",
      "  \n",
      "/usr/local/lib/python3.5/dist-packages/ipykernel_launcher.py:6: SettingWithCopyWarning: \n",
      "A value is trying to be set on a copy of a slice from a DataFrame.\n",
      "Try using .loc[row_indexer,col_indexer] = value instead\n",
      "\n",
      "See the caveats in the documentation: http://pandas.pydata.org/pandas-docs/stable/indexing.html#indexing-view-versus-copy\n",
      "  \n",
      "/usr/local/lib/python3.5/dist-packages/ipykernel_launcher.py:7: FutureWarning: pd.ewm_mean is deprecated for Series and will be removed in a future version, replace with \n",
      "\tSeries.ewm(min_periods=0,ignore_na=False,adjust=False,alpha=0.3333333333333333).mean()\n",
      "  import sys\n",
      "/usr/local/lib/python3.5/dist-packages/ipykernel_launcher.py:7: SettingWithCopyWarning: \n",
      "A value is trying to be set on a copy of a slice from a DataFrame.\n",
      "Try using .loc[row_indexer,col_indexer] = value instead\n",
      "\n",
      "See the caveats in the documentation: http://pandas.pydata.org/pandas-docs/stable/indexing.html#indexing-view-versus-copy\n",
      "  import sys\n",
      "/usr/local/lib/python3.5/dist-packages/ipykernel_launcher.py:9: SettingWithCopyWarning: \n",
      "A value is trying to be set on a copy of a slice from a DataFrame.\n",
      "Try using .loc[row_indexer,col_indexer] = value instead\n",
      "\n",
      "See the caveats in the documentation: http://pandas.pydata.org/pandas-docs/stable/indexing.html#indexing-view-versus-copy\n",
      "  if __name__ == '__main__':\n",
      "/usr/local/lib/python3.5/dist-packages/ipykernel_launcher.py:10: FutureWarning: pd.ewm_mean is deprecated for Series and will be removed in a future version, replace with \n",
      "\tSeries.ewm(min_periods=0,ignore_na=False,adjust=False,alpha=0.06666666666666667).mean()\n",
      "  # Remove the CWD from sys.path while we load stuff.\n",
      "/usr/local/lib/python3.5/dist-packages/ipykernel_launcher.py:10: SettingWithCopyWarning: \n",
      "A value is trying to be set on a copy of a slice from a DataFrame.\n",
      "Try using .loc[row_indexer,col_indexer] = value instead\n",
      "\n",
      "See the caveats in the documentation: http://pandas.pydata.org/pandas-docs/stable/indexing.html#indexing-view-versus-copy\n",
      "  # Remove the CWD from sys.path while we load stuff.\n",
      "/usr/local/lib/python3.5/dist-packages/ipykernel_launcher.py:11: FutureWarning: pd.rolling_mean is deprecated for Series and will be removed in a future version, replace with \n",
      "\tSeries.rolling(center=False,window=15).mean()\n",
      "  # This is added back by InteractiveShellApp.init_path()\n",
      "/usr/local/lib/python3.5/dist-packages/ipykernel_launcher.py:11: SettingWithCopyWarning: \n",
      "A value is trying to be set on a copy of a slice from a DataFrame.\n",
      "Try using .loc[row_indexer,col_indexer] = value instead\n",
      "\n",
      "See the caveats in the documentation: http://pandas.pydata.org/pandas-docs/stable/indexing.html#indexing-view-versus-copy\n",
      "  # This is added back by InteractiveShellApp.init_path()\n",
      "/usr/local/lib/python3.5/dist-packages/ipykernel_launcher.py:12: SettingWithCopyWarning: \n",
      "A value is trying to be set on a copy of a slice from a DataFrame.\n",
      "Try using .loc[row_indexer,col_indexer] = value instead\n",
      "\n",
      "See the caveats in the documentation: http://pandas.pydata.org/pandas-docs/stable/indexing.html#indexing-view-versus-copy\n",
      "  if sys.path[0] == '':\n",
      "/usr/local/lib/python3.5/dist-packages/ipykernel_launcher.py:13: SettingWithCopyWarning: \n",
      "A value is trying to be set on a copy of a slice from a DataFrame.\n",
      "Try using .loc[row_indexer,col_indexer] = value instead\n",
      "\n",
      "See the caveats in the documentation: http://pandas.pydata.org/pandas-docs/stable/indexing.html#indexing-view-versus-copy\n",
      "  del sys.path[0]\n",
      "/usr/local/lib/python3.5/dist-packages/ipykernel_launcher.py:14: FutureWarning: pd.ewm_mean is deprecated for Series and will be removed in a future version, replace with \n",
      "\tSeries.ewm(min_periods=0,ignore_na=False,adjust=False,alpha=0.06666666666666667).mean()\n",
      "  \n",
      "/usr/local/lib/python3.5/dist-packages/ipykernel_launcher.py:14: SettingWithCopyWarning: \n",
      "A value is trying to be set on a copy of a slice from a DataFrame.\n",
      "Try using .loc[row_indexer,col_indexer] = value instead\n",
      "\n",
      "See the caveats in the documentation: http://pandas.pydata.org/pandas-docs/stable/indexing.html#indexing-view-versus-copy\n",
      "  \n",
      "/usr/local/lib/python3.5/dist-packages/ipykernel_launcher.py:15: FutureWarning: pd.ewm_mean is deprecated for Series and will be removed in a future version, replace with \n",
      "\tSeries.ewm(min_periods=0,ignore_na=False,adjust=False,alpha=0.06666666666666667).mean()\n",
      "  from ipykernel import kernelapp as app\n",
      "/usr/local/lib/python3.5/dist-packages/ipykernel_launcher.py:15: SettingWithCopyWarning: \n",
      "A value is trying to be set on a copy of a slice from a DataFrame.\n",
      "Try using .loc[row_indexer,col_indexer] = value instead\n",
      "\n",
      "See the caveats in the documentation: http://pandas.pydata.org/pandas-docs/stable/indexing.html#indexing-view-versus-copy\n",
      "  from ipykernel import kernelapp as app\n",
      "/usr/local/lib/python3.5/dist-packages/ipykernel_launcher.py:16: SettingWithCopyWarning: \n",
      "A value is trying to be set on a copy of a slice from a DataFrame.\n",
      "Try using .loc[row_indexer,col_indexer] = value instead\n",
      "\n",
      "See the caveats in the documentation: http://pandas.pydata.org/pandas-docs/stable/indexing.html#indexing-view-versus-copy\n",
      "  app.launch_new_instance()\n",
      "/usr/local/lib/python3.5/dist-packages/ipykernel_launcher.py:17: FutureWarning: pd.ewm_mean is deprecated for Series and will be removed in a future version, replace with \n",
      "\tSeries.ewm(min_periods=0,ignore_na=False,adjust=False,alpha=0.06666666666666667).mean()\n"
     ]
    },
    {
     "name": "stderr",
     "output_type": "stream",
     "text": [
      "/usr/local/lib/python3.5/dist-packages/ipykernel_launcher.py:17: SettingWithCopyWarning: \n",
      "A value is trying to be set on a copy of a slice from a DataFrame.\n",
      "Try using .loc[row_indexer,col_indexer] = value instead\n",
      "\n",
      "See the caveats in the documentation: http://pandas.pydata.org/pandas-docs/stable/indexing.html#indexing-view-versus-copy\n"
     ]
    }
   ],
   "source": [
    "# read data\n",
    "data = pd.read_csv(\"./TXF1_2017.txt\")\n",
    "#===================\n",
    "# df = df[1100000:]  # 2010年後\n",
    "df = data[800000:]\n",
    "#===================\n",
    "\n",
    "# Augment the features \n",
    "train_Aug = augFeatures(df)\n",
    "\n",
    "# Normalization\n",
    "train_norm, train = normalize(train_Aug)\n",
    "\n",
    "# build Data, use last 5 days to predict next 1 days\n",
    "X_train, Y_train = buildTrain(train_norm, 5, 1)\n",
    "\n",
    "# split training data and validation data\n",
    "X_train, Y_train, X_val, Y_val, X_predict, Y_predict = splitData(X_train, Y_train, 0.1, 0.8)\n"
   ]
  },
  {
   "cell_type": "code",
   "execution_count": 35,
   "metadata": {},
   "outputs": [],
   "source": [
    "#\n",
    "train_mean, train_std = np.mean(train[50:]), np.std(train[50:])\n",
    "close_mean, close_std = train_mean[3], train_std[3]"
   ]
  },
  {
   "cell_type": "code",
   "execution_count": 36,
   "metadata": {},
   "outputs": [
    {
     "data": {
      "text/plain": [
       "((327231, 5, 19),\n",
       " (327231, 1),\n",
       " (46747, 5, 19),\n",
       " (46747, 1),\n",
       " (93495, 5, 19),\n",
       " (93495, 1))"
      ]
     },
     "execution_count": 36,
     "metadata": {},
     "output_type": "execute_result"
    }
   ],
   "source": [
    "X_train.shape, Y_train.shape, X_val.shape, Y_val.shape, X_predict.shape, Y_predict.shape"
   ]
  },
  {
   "cell_type": "code",
   "execution_count": 37,
   "metadata": {
    "scrolled": true
   },
   "outputs": [
    {
     "data": {
      "text/plain": [
       "array([[-0.21394782, -0.21323806, -0.21431105, -0.21267381, -0.21352266,\n",
       "        -0.21350475, -0.2133379 , -0.02571116, -0.11476346, -0.10199639,\n",
       "         0.01176548,  0.06344262,  0.05235808,  0.0169568 , -0.00212973,\n",
       "         0.0554987 ,  0.01734269, -0.09712797,  0.00719351],\n",
       "       [-0.21267361, -0.21094156, -0.21201864, -0.21063508, -0.21321651,\n",
       "        -0.21324942, -0.21324846,  0.29428884,  0.02262253, -0.06019834,\n",
       "         0.01176548,  0.0663782 ,  0.05697915,  0.02709194, -0.00212973,\n",
       "         0.07657036,  0.01422405,  0.02828722,  0.00917673],\n",
       "       [-0.21063487, -0.20966572, -0.21049037, -0.20936087, -0.21245112,\n",
       "        -0.21273878, -0.21312068,  0.41428884,  0.15463528,  0.01317948,\n",
       "         0.00965577,  0.06783325,  0.05697915,  0.01357842, -0.00212973,\n",
       "         0.0838811 ,  0.01131331,  0.08689342,  0.01613001],\n",
       "       [-0.20910582, -0.20992089, -0.21049037, -0.21038024, -0.21168574,\n",
       "        -0.21233026, -0.21304401,  0.25428884,  0.18874765,  0.07385855,\n",
       "         0.00754607,  0.06790648,  0.05790337, -0.00331347, -0.00212973,\n",
       "         0.07525929,  0.00859662,  0.08689342,  0.02261974],\n",
       "       [-0.21038003, -0.21017606, -0.20998094, -0.20936087, -0.21071625,\n",
       "        -0.2122026 , -0.21294179,  0.41428884,  0.26538536,  0.14073274,\n",
       "         0.00121695,  0.06412037,  0.05605494, -0.00331347, -0.00212973,\n",
       "         0.06721227,  0.00606105,  0.08689342,  0.02867683]])"
      ]
     },
     "execution_count": 37,
     "metadata": {},
     "output_type": "execute_result"
    }
   ],
   "source": [
    "X_train[0]"
   ]
  },
  {
   "cell_type": "markdown",
   "metadata": {},
   "source": [
    "# Model"
   ]
  },
  {
   "cell_type": "code",
   "execution_count": 38,
   "metadata": {},
   "outputs": [],
   "source": [
    "## LSTM\n",
    "def buildManyToOneModel(shape):\n",
    "  model = Sequential()\n",
    "  model.add(LSTM(5, input_length=shape[1], input_dim=shape[2]))\n",
    "  # output shape: (1, 1)\n",
    "  model.add(Dense(1))\n",
    "  model.compile(loss=\"mse\", optimizer=\"adam\")\n",
    "  model.summary()\n",
    "  return model"
   ]
  },
  {
   "cell_type": "code",
   "execution_count": 39,
   "metadata": {},
   "outputs": [],
   "source": [
    "## RNN\n",
    "def buildRNNModel(shape):\n",
    "    model = Sequential()\n",
    "    model.add(SimpleRNN(5, input_shape=(shape[1], shape[2])))\n",
    "    model.add(Dense(1))\n",
    "    model.compile(loss=\"mse\", optimizer=\"adam\")\n",
    "    model.summary()\n",
    "    return model"
   ]
  },
  {
   "cell_type": "code",
   "execution_count": 40,
   "metadata": {},
   "outputs": [],
   "source": [
    "## MLP\n",
    "def buildMLPModel(shape):\n",
    "    model = Sequential()\n",
    "    return 0  "
   ]
  },
  {
   "cell_type": "markdown",
   "metadata": {},
   "source": [
    "## RNN"
   ]
  },
  {
   "cell_type": "code",
   "execution_count": 41,
   "metadata": {},
   "outputs": [
    {
     "name": "stdout",
     "output_type": "stream",
     "text": [
      "_________________________________________________________________\n",
      "Layer (type)                 Output Shape              Param #   \n",
      "=================================================================\n",
      "simple_rnn_2 (SimpleRNN)     (None, 5)                 125       \n",
      "_________________________________________________________________\n",
      "dense_3 (Dense)              (None, 1)                 6         \n",
      "=================================================================\n",
      "Total params: 131\n",
      "Trainable params: 131\n",
      "Non-trainable params: 0\n",
      "_________________________________________________________________\n",
      "Train on 327231 samples, validate on 46747 samples\n",
      "Epoch 1/1000\n",
      "327231/327231 [==============================] - 11s 33us/step - loss: 0.0037 - val_loss: 3.6273e-05\n",
      "Epoch 2/1000\n",
      "327231/327231 [==============================] - 10s 31us/step - loss: 1.3805e-05 - val_loss: 1.0216e-05\n",
      "Epoch 3/1000\n",
      "327231/327231 [==============================] - 10s 31us/step - loss: 4.5785e-06 - val_loss: 6.3320e-06\n",
      "Epoch 4/1000\n",
      "327231/327231 [==============================] - 10s 31us/step - loss: 2.6720e-06 - val_loss: 4.6470e-06\n",
      "Epoch 5/1000\n",
      "327231/327231 [==============================] - 10s 31us/step - loss: 2.1133e-06 - val_loss: 4.1746e-06\n",
      "Epoch 6/1000\n",
      "327231/327231 [==============================] - 10s 30us/step - loss: 1.9268e-06 - val_loss: 4.2476e-06\n",
      "Epoch 7/1000\n",
      "327231/327231 [==============================] - 10s 31us/step - loss: 1.7969e-06 - val_loss: 3.7558e-06\n",
      "Epoch 8/1000\n",
      "327231/327231 [==============================] - 10s 31us/step - loss: 1.7467e-06 - val_loss: 3.8570e-06\n",
      "Epoch 9/1000\n",
      "327231/327231 [==============================] - 10s 31us/step - loss: 1.7116e-06 - val_loss: 3.7527e-06\n",
      "Epoch 10/1000\n",
      "327231/327231 [==============================] - 10s 30us/step - loss: 1.6795e-06 - val_loss: 3.6364e-06\n",
      "Epoch 11/1000\n",
      "327231/327231 [==============================] - 10s 31us/step - loss: 1.6484e-06 - val_loss: 3.8781e-06\n",
      "Epoch 12/1000\n",
      "327231/327231 [==============================] - 10s 31us/step - loss: 1.6060e-06 - val_loss: 3.7357e-06\n",
      "Epoch 13/1000\n",
      "327231/327231 [==============================] - 10s 31us/step - loss: 1.5864e-06 - val_loss: 3.8147e-06\n",
      "Epoch 14/1000\n",
      "327231/327231 [==============================] - 10s 31us/step - loss: 1.6005e-06 - val_loss: 3.4992e-06\n",
      "Epoch 15/1000\n",
      "327231/327231 [==============================] - 10s 31us/step - loss: 1.5544e-06 - val_loss: 3.4404e-06\n",
      "Epoch 16/1000\n",
      "327231/327231 [==============================] - 10s 30us/step - loss: 1.5607e-06 - val_loss: 3.5481e-06\n",
      "Epoch 17/1000\n",
      "327231/327231 [==============================] - 10s 31us/step - loss: 1.5413e-06 - val_loss: 3.4980e-06\n",
      "Epoch 18/1000\n",
      "327231/327231 [==============================] - 10s 30us/step - loss: 1.5389e-06 - val_loss: 3.5075e-06\n",
      "Epoch 19/1000\n",
      "327231/327231 [==============================] - 10s 32us/step - loss: 1.5319e-06 - val_loss: 3.4109e-06\n",
      "Epoch 20/1000\n",
      "327231/327231 [==============================] - 10s 31us/step - loss: 1.5238e-06 - val_loss: 3.7395e-06\n",
      "Epoch 21/1000\n",
      "327231/327231 [==============================] - 10s 29us/step - loss: 1.5263e-06 - val_loss: 3.5183e-06\n",
      "Epoch 22/1000\n",
      "327231/327231 [==============================] - 10s 29us/step - loss: 1.5033e-06 - val_loss: 3.5327e-06\n",
      "Epoch 23/1000\n",
      "327231/327231 [==============================] - 10s 30us/step - loss: 1.5088e-06 - val_loss: 3.8647e-06\n",
      "Epoch 24/1000\n",
      "327231/327231 [==============================] - 10s 30us/step - loss: 1.4904e-06 - val_loss: 3.3609e-06\n",
      "Epoch 25/1000\n",
      "327231/327231 [==============================] - 10s 30us/step - loss: 1.5001e-06 - val_loss: 3.4928e-06\n",
      "Epoch 26/1000\n",
      "327231/327231 [==============================] - 10s 29us/step - loss: 1.4875e-06 - val_loss: 3.3440e-06\n",
      "Epoch 27/1000\n",
      "327231/327231 [==============================] - 10s 30us/step - loss: 1.4894e-06 - val_loss: 3.3694e-06\n",
      "Epoch 28/1000\n",
      "327231/327231 [==============================] - 10s 31us/step - loss: 1.4934e-06 - val_loss: 3.3558e-06\n",
      "Epoch 29/1000\n",
      "327231/327231 [==============================] - 11s 32us/step - loss: 1.4716e-06 - val_loss: 3.7789e-06\n",
      "Epoch 30/1000\n",
      "327231/327231 [==============================] - 11s 33us/step - loss: 1.4830e-06 - val_loss: 3.3370e-06\n",
      "Epoch 31/1000\n",
      "327231/327231 [==============================] - 11s 33us/step - loss: 1.4748e-06 - val_loss: 3.3260e-06\n",
      "Epoch 32/1000\n",
      "327231/327231 [==============================] - 11s 32us/step - loss: 1.4777e-06 - val_loss: 4.4030e-06\n",
      "Epoch 33/1000\n",
      "327231/327231 [==============================] - 10s 31us/step - loss: 1.4706e-06 - val_loss: 3.3914e-06\n",
      "Epoch 34/1000\n",
      "327231/327231 [==============================] - 9s 29us/step - loss: 1.4657e-06 - val_loss: 3.3061e-06\n",
      "Epoch 35/1000\n",
      "327231/327231 [==============================] - 9s 28us/step - loss: 1.4734e-06 - val_loss: 3.4034e-06\n",
      "Epoch 36/1000\n",
      "327231/327231 [==============================] - 9s 28us/step - loss: 1.4540e-06 - val_loss: 3.6323e-06\n",
      "Epoch 37/1000\n",
      "327231/327231 [==============================] - 9s 28us/step - loss: 1.4547e-06 - val_loss: 3.2622e-06\n",
      "Epoch 38/1000\n",
      "327231/327231 [==============================] - 10s 29us/step - loss: 1.4591e-06 - val_loss: 3.3828e-06\n",
      "Epoch 39/1000\n",
      "327231/327231 [==============================] - 11s 35us/step - loss: 1.4481e-06 - val_loss: 3.2740e-06\n",
      "Epoch 40/1000\n",
      "327231/327231 [==============================] - 11s 35us/step - loss: 1.4541e-06 - val_loss: 3.4613e-06\n",
      "Epoch 41/1000\n",
      "327231/327231 [==============================] - 10s 32us/step - loss: 1.4532e-06 - val_loss: 3.2778e-06\n",
      "Epoch 42/1000\n",
      "327231/327231 [==============================] - 11s 33us/step - loss: 1.4471e-06 - val_loss: 3.3820e-06\n",
      "Epoch 43/1000\n",
      "327231/327231 [==============================] - 11s 33us/step - loss: 1.4466e-06 - val_loss: 4.1241e-06\n",
      "Epoch 44/1000\n",
      "327231/327231 [==============================] - 11s 33us/step - loss: 1.4353e-06 - val_loss: 3.3237e-06\n",
      "Epoch 45/1000\n",
      "327231/327231 [==============================] - 11s 32us/step - loss: 1.4471e-06 - val_loss: 3.5541e-06\n",
      "Epoch 46/1000\n",
      "327231/327231 [==============================] - 10s 32us/step - loss: 1.4381e-06 - val_loss: 3.3601e-06\n",
      "Epoch 47/1000\n",
      "327231/327231 [==============================] - 10s 32us/step - loss: 1.4375e-06 - val_loss: 3.6173e-06\n",
      "Epoch 48/1000\n",
      "327231/327231 [==============================] - 10s 32us/step - loss: 1.4413e-06 - val_loss: 3.2676e-06\n",
      "Epoch 49/1000\n",
      "327231/327231 [==============================] - 10s 32us/step - loss: 1.4266e-06 - val_loss: 3.5425e-06\n",
      "Epoch 50/1000\n",
      "327231/327231 [==============================] - 11s 32us/step - loss: 1.4387e-06 - val_loss: 3.2443e-06\n",
      "Epoch 51/1000\n",
      "327231/327231 [==============================] - 11s 33us/step - loss: 1.4326e-06 - val_loss: 3.7025e-06\n",
      "Epoch 52/1000\n",
      "327231/327231 [==============================] - 10s 32us/step - loss: 1.4293e-06 - val_loss: 3.3695e-06\n",
      "Epoch 53/1000\n",
      "327231/327231 [==============================] - 10s 31us/step - loss: 1.4299e-06 - val_loss: 3.2741e-06\n",
      "Epoch 54/1000\n",
      "327231/327231 [==============================] - 9s 28us/step - loss: 1.4226e-06 - val_loss: 3.4386e-06\n",
      "Epoch 55/1000\n",
      "327231/327231 [==============================] - 11s 33us/step - loss: 1.4238e-06 - val_loss: 3.3470e-06\n",
      "Epoch 56/1000\n",
      "327231/327231 [==============================] - 11s 34us/step - loss: 1.4050e-06 - val_loss: 3.4385e-06\n",
      "Epoch 57/1000\n",
      "327231/327231 [==============================] - 11s 34us/step - loss: 1.4308e-06 - val_loss: 3.2880e-06\n",
      "Epoch 58/1000\n",
      "327231/327231 [==============================] - 11s 34us/step - loss: 1.4157e-06 - val_loss: 3.4728e-06\n",
      "Epoch 59/1000\n",
      "327231/327231 [==============================] - 11s 34us/step - loss: 1.4148e-06 - val_loss: 3.2890e-06\n",
      "Epoch 60/1000\n",
      "327231/327231 [==============================] - 11s 35us/step - loss: 1.4279e-06 - val_loss: 3.2435e-06\n",
      "Epoch 61/1000\n",
      "327231/327231 [==============================] - 11s 34us/step - loss: 1.4124e-06 - val_loss: 3.2399e-06\n",
      "Epoch 62/1000\n",
      "327231/327231 [==============================] - 11s 34us/step - loss: 1.4213e-06 - val_loss: 3.3668e-06\n",
      "Epoch 63/1000\n",
      "327231/327231 [==============================] - 11s 33us/step - loss: 1.4132e-06 - val_loss: 3.3533e-06\n",
      "Epoch 64/1000\n",
      "327231/327231 [==============================] - 11s 33us/step - loss: 1.4135e-06 - val_loss: 3.2659e-06\n",
      "Epoch 65/1000\n",
      "327231/327231 [==============================] - 11s 34us/step - loss: 1.4033e-06 - val_loss: 3.3361e-06\n",
      "Epoch 66/1000\n",
      "327231/327231 [==============================] - 11s 35us/step - loss: 1.4168e-06 - val_loss: 3.2770e-06\n",
      "Epoch 67/1000\n",
      "327231/327231 [==============================] - 11s 34us/step - loss: 1.4163e-06 - val_loss: 3.4691e-06\n",
      "Epoch 68/1000\n",
      "327231/327231 [==============================] - 11s 35us/step - loss: 1.4060e-06 - val_loss: 3.3878e-06\n",
      "Epoch 69/1000\n",
      "327231/327231 [==============================] - 11s 34us/step - loss: 1.4031e-06 - val_loss: 3.4298e-06\n",
      "Epoch 70/1000\n",
      "327231/327231 [==============================] - 12s 35us/step - loss: 1.4055e-06 - val_loss: 3.2931e-06\n",
      "Epoch 71/1000\n",
      "327231/327231 [==============================] - 11s 35us/step - loss: 1.4058e-06 - val_loss: 3.2900e-06\n",
      "Epoch 72/1000\n",
      "327231/327231 [==============================] - 11s 35us/step - loss: 1.4043e-06 - val_loss: 3.2769e-06\n",
      "Epoch 73/1000\n",
      "327231/327231 [==============================] - 11s 34us/step - loss: 1.4030e-06 - val_loss: 3.3934e-06\n",
      "Epoch 74/1000\n",
      "327231/327231 [==============================] - 11s 34us/step - loss: 1.4006e-06 - val_loss: 3.5235e-06\n",
      "Epoch 75/1000\n",
      "327231/327231 [==============================] - 13s 40us/step - loss: 1.4017e-06 - val_loss: 3.3649e-06\n",
      "Epoch 76/1000\n",
      "327231/327231 [==============================] - 18s 54us/step - loss: 1.3951e-06 - val_loss: 3.6863e-06\n",
      "Epoch 77/1000\n",
      "327231/327231 [==============================] - 13s 38us/step - loss: 1.4024e-06 - val_loss: 3.4663e-06\n",
      "Epoch 78/1000\n",
      "327231/327231 [==============================] - 14s 42us/step - loss: 1.3896e-06 - val_loss: 3.2944e-06\n",
      "Epoch 79/1000\n",
      "327231/327231 [==============================] - 12s 38us/step - loss: 1.4117e-06 - val_loss: 3.2238e-06\n",
      "Epoch 80/1000\n",
      "327231/327231 [==============================] - 13s 39us/step - loss: 1.3989e-06 - val_loss: 3.3061e-06\n",
      "Epoch 81/1000\n",
      "327231/327231 [==============================] - 12s 37us/step - loss: 1.4015e-06 - val_loss: 3.2694e-06\n",
      "Epoch 82/1000\n",
      "327231/327231 [==============================] - 12s 38us/step - loss: 1.3958e-06 - val_loss: 3.3646e-06\n",
      "Epoch 83/1000\n",
      "327231/327231 [==============================] - 12s 37us/step - loss: 1.4057e-06 - val_loss: 3.3340e-06\n",
      "Epoch 84/1000\n",
      "327231/327231 [==============================] - 13s 38us/step - loss: 1.3932e-06 - val_loss: 3.3336e-06\n",
      "Epoch 85/1000\n",
      "327231/327231 [==============================] - 13s 38us/step - loss: 1.4001e-06 - val_loss: 3.3808e-06\n",
      "Epoch 86/1000\n",
      "327231/327231 [==============================] - 13s 39us/step - loss: 1.3904e-06 - val_loss: 3.3245e-06\n",
      "Epoch 87/1000\n",
      "327231/327231 [==============================] - 11s 34us/step - loss: 1.3819e-06 - val_loss: 3.5125e-06\n",
      "Epoch 88/1000\n",
      "327231/327231 [==============================] - 11s 34us/step - loss: 1.3931e-06 - val_loss: 3.3329e-06\n",
      "Epoch 89/1000\n",
      "327231/327231 [==============================] - 11s 34us/step - loss: 1.3849e-06 - val_loss: 3.2426e-06\n",
      "Epoch 90/1000\n",
      "327231/327231 [==============================] - 11s 34us/step - loss: 1.3793e-06 - val_loss: 3.2131e-06\n",
      "Epoch 91/1000\n",
      "327231/327231 [==============================] - 13s 39us/step - loss: 1.3885e-06 - val_loss: 3.4557e-06\n",
      "Epoch 92/1000\n",
      "327231/327231 [==============================] - 13s 39us/step - loss: 1.3885e-06 - val_loss: 3.2490e-06\n",
      "Epoch 93/1000\n",
      "327231/327231 [==============================] - 13s 40us/step - loss: 1.3964e-06 - val_loss: 3.5104e-06\n",
      "Epoch 94/1000\n",
      "327231/327231 [==============================] - 12s 38us/step - loss: 1.3862e-06 - val_loss: 3.3121e-06\n",
      "Epoch 95/1000\n",
      "327231/327231 [==============================] - 12s 38us/step - loss: 1.3843e-06 - val_loss: 3.3293e-06\n",
      "Epoch 96/1000\n",
      "327231/327231 [==============================] - 12s 37us/step - loss: 1.3908e-06 - val_loss: 3.3700e-06\n",
      "Epoch 97/1000\n",
      "327231/327231 [==============================] - 12s 37us/step - loss: 1.3879e-06 - val_loss: 3.4675e-06\n",
      "Epoch 98/1000\n",
      "327231/327231 [==============================] - 13s 40us/step - loss: 1.3827e-06 - val_loss: 3.2584e-06\n",
      "Epoch 99/1000\n",
      "327231/327231 [==============================] - 11s 34us/step - loss: 1.3871e-06 - val_loss: 3.2228e-06\n",
      "Epoch 100/1000\n",
      "327231/327231 [==============================] - 13s 40us/step - loss: 1.3894e-06 - val_loss: 3.3296e-06\n",
      "Epoch 00100: early stopping\n"
     ]
    },
    {
     "data": {
      "text/plain": [
       "<keras.callbacks.History at 0x7f500a2b05f8>"
      ]
     },
     "execution_count": 41,
     "metadata": {},
     "output_type": "execute_result"
    }
   ],
   "source": [
    "model = buildRNNModel(X_train.shape)\n",
    "callback = EarlyStopping(monitor=\"loss\", patience=10, verbose=1, mode=\"auto\")\n",
    "model.fit(X_train, Y_train, epochs=1000, batch_size=128, validation_data=(X_val, Y_val), callbacks=[callback])\n"
   ]
  },
  {
   "cell_type": "code",
   "execution_count": 42,
   "metadata": {},
   "outputs": [],
   "source": [
    "predict_train_rnn = model.predict(X_train)\n",
    "predict_test_rnn = model.predict(X_predict)"
   ]
  },
  {
   "cell_type": "code",
   "execution_count": 43,
   "metadata": {},
   "outputs": [],
   "source": [
    "predict_test_rnn = unnormalize(predict_test_rnn, close_mean, close_std)\n",
    "predict_train_rnn = unnormalize(predict_train_rnn, close_mean, close_std)\n",
    "Y_train_rnn = unnormalize(Y_train, close_mean, close_std)\n",
    "Y_predict_rnn = unnormalize(Y_predict, close_mean, close_std)"
   ]
  },
  {
   "cell_type": "code",
   "execution_count": 44,
   "metadata": {},
   "outputs": [
    {
     "data": {
      "image/png": "[encoded data removed]",
      "text/plain": [
       "<Figure size 432x288 with 1 Axes>"
      ]
     },
     "metadata": {},
     "output_type": "display_data"
    }
   ],
   "source": [
    "plt.plot(np.arange(len(Y_train_rnn)), predict_train_rnn, label='Prediction', linewidth=0.3)\n",
    "plt.plot(np.arange(len(Y_train_rnn)), Y_train_rnn, label='True Data', linewidth=0.3)\n",
    "plt.xlabel(' ')\n",
    "plt.xticks([])\n",
    "plt.ylabel('Close')\n",
    "plt.title('Train Set')\n",
    "plt.legend()\n",
    "plt.show()"
   ]
  },
  {
   "cell_type": "code",
   "execution_count": 45,
   "metadata": {
    "scrolled": true
   },
   "outputs": [
    {
     "data": {
      "image/png": "[encoded data removed]",
      "text/plain": [
       "<Figure size 432x288 with 1 Axes>"
      ]
     },
     "metadata": {},
     "output_type": "display_data"
    }
   ],
   "source": [
    "plt.plot(np.arange(len(Y_predict_rnn)), predict_test_rnn, label='Prediction', linewidth=0.3)\n",
    "plt.plot(np.arange(len(Y_predict_rnn)), Y_predict_rnn, label='True Data', linewidth=0.3)\n",
    "plt.xlabel(' ')\n",
    "plt.xticks([])\n",
    "plt.ylabel('Close')\n",
    "plt.title('Test Set')\n",
    "plt.legend()\n",
    "plt.show()"
   ]
  },
  {
   "cell_type": "code",
   "execution_count": 46,
   "metadata": {},
   "outputs": [
    {
     "data": {
      "image/png": "[encoded data removed]",
      "text/plain": [
       "<Figure size 432x288 with 1 Axes>"
      ]
     },
     "metadata": {},
     "output_type": "display_data"
    }
   ],
   "source": [
    "plt.plot(np.arange(len(Y_predict_rnn[-500:])), predict_test_rnn[-500:], label='Prediction', linewidth=0.3)\n",
    "plt.plot(np.arange(len(Y_predict_rnn[-500:])), Y_predict_rnn[-500:], label='True Data', linewidth=0.3)\n",
    "plt.xlabel(' ')\n",
    "plt.xticks([])\n",
    "plt.ylabel('Close')\n",
    "plt.title('Test Set')\n",
    "plt.legend()\n",
    "plt.show()"
   ]
  },
  {
   "cell_type": "markdown",
   "metadata": {},
   "source": [
    "## LSTM"
   ]
  },
  {
   "cell_type": "code",
   "execution_count": 17,
   "metadata": {},
   "outputs": [
    {
     "name": "stderr",
     "output_type": "stream",
     "text": [
      "/usr/local/lib/python3.5/dist-packages/ipykernel_launcher.py:4: UserWarning: The `input_dim` and `input_length` arguments in recurrent layers are deprecated. Use `input_shape` instead.\n",
      "  after removing the cwd from sys.path.\n",
      "/usr/local/lib/python3.5/dist-packages/ipykernel_launcher.py:4: UserWarning: Update your `LSTM` call to the Keras 2 API: `LSTM(5, input_shape=(5, 19))`\n",
      "  after removing the cwd from sys.path.\n"
     ]
    },
    {
     "name": "stdout",
     "output_type": "stream",
     "text": [
      "_________________________________________________________________\n",
      "Layer (type)                 Output Shape              Param #   \n",
      "=================================================================\n",
      "lstm_1 (LSTM)                (None, 5)                 500       \n",
      "_________________________________________________________________\n",
      "dense_1 (Dense)              (None, 1)                 6         \n",
      "=================================================================\n",
      "Total params: 506\n",
      "Trainable params: 506\n",
      "Non-trainable params: 0\n",
      "_________________________________________________________________\n",
      "Train on 327231 samples, validate on 46747 samples\n",
      "Epoch 1/1000\n",
      "327231/327231 [==============================] - 24s 72us/step - loss: 1.4771e-04 - val_loss: 5.8128e-06\n",
      "Epoch 2/1000\n",
      "327231/327231 [==============================] - 25s 77us/step - loss: 2.6023e-06 - val_loss: 3.9167e-06\n",
      "Epoch 3/1000\n",
      "327231/327231 [==============================] - 25s 77us/step - loss: 1.9065e-06 - val_loss: 4.0450e-06\n",
      "Epoch 4/1000\n",
      "327231/327231 [==============================] - 24s 74us/step - loss: 1.7586e-06 - val_loss: 3.8687e-06\n",
      "Epoch 5/1000\n",
      "327231/327231 [==============================] - 24s 74us/step - loss: 1.7263e-06 - val_loss: 3.5724e-06\n",
      "Epoch 6/1000\n",
      "327231/327231 [==============================] - 24s 74us/step - loss: 1.6880e-06 - val_loss: 3.4687e-06\n",
      "Epoch 7/1000\n",
      "327231/327231 [==============================] - 24s 73us/step - loss: 1.6487e-06 - val_loss: 3.7710e-06\n",
      "Epoch 8/1000\n",
      "327231/327231 [==============================] - 25s 75us/step - loss: 1.6222e-06 - val_loss: 3.5149e-06\n",
      "Epoch 9/1000\n",
      "327231/327231 [==============================] - 25s 76us/step - loss: 1.6260e-06 - val_loss: 3.5960e-06\n",
      "Epoch 10/1000\n",
      "327231/327231 [==============================] - 25s 75us/step - loss: 1.6022e-06 - val_loss: 3.4758e-06\n",
      "Epoch 11/1000\n",
      "327231/327231 [==============================] - 25s 75us/step - loss: 1.5970e-06 - val_loss: 3.3910e-06\n",
      "Epoch 12/1000\n",
      "327231/327231 [==============================] - 25s 76us/step - loss: 1.5667e-06 - val_loss: 3.4501e-06\n",
      "Epoch 13/1000\n",
      "327231/327231 [==============================] - 25s 75us/step - loss: 1.5603e-06 - val_loss: 3.5719e-06\n",
      "Epoch 14/1000\n",
      "327231/327231 [==============================] - 24s 73us/step - loss: 1.5775e-06 - val_loss: 3.6746e-06\n",
      "Epoch 15/1000\n",
      "327231/327231 [==============================] - 24s 74us/step - loss: 1.5442e-06 - val_loss: 4.0172e-06\n",
      "Epoch 16/1000\n",
      "327231/327231 [==============================] - 24s 73us/step - loss: 1.5468e-06 - val_loss: 3.8094e-06\n",
      "Epoch 17/1000\n",
      "327231/327231 [==============================] - 24s 74us/step - loss: 1.5490e-06 - val_loss: 3.6230e-06\n",
      "Epoch 18/1000\n",
      "327231/327231 [==============================] - 24s 74us/step - loss: 1.5357e-06 - val_loss: 3.4766e-06\n",
      "Epoch 19/1000\n",
      "327231/327231 [==============================] - 24s 73us/step - loss: 1.5234e-06 - val_loss: 3.3830e-06\n",
      "Epoch 20/1000\n",
      "327231/327231 [==============================] - 24s 74us/step - loss: 1.5264e-06 - val_loss: 3.5417e-06\n",
      "Epoch 21/1000\n",
      "327231/327231 [==============================] - 24s 73us/step - loss: 1.5241e-06 - val_loss: 3.7726e-06\n",
      "Epoch 22/1000\n",
      "327231/327231 [==============================] - 24s 73us/step - loss: 1.5225e-06 - val_loss: 3.3206e-06\n",
      "Epoch 23/1000\n",
      "327231/327231 [==============================] - 24s 75us/step - loss: 1.5077e-06 - val_loss: 3.3858e-06\n",
      "Epoch 24/1000\n",
      "327231/327231 [==============================] - 24s 73us/step - loss: 1.5049e-06 - val_loss: 3.3503e-06\n",
      "Epoch 25/1000\n",
      "327231/327231 [==============================] - 24s 74us/step - loss: 1.5226e-06 - val_loss: 3.3275e-06\n",
      "Epoch 26/1000\n",
      "327231/327231 [==============================] - 24s 73us/step - loss: 1.5050e-06 - val_loss: 3.3692e-06\n",
      "Epoch 27/1000\n",
      "327231/327231 [==============================] - 24s 73us/step - loss: 1.5020e-06 - val_loss: 3.3339e-06\n",
      "Epoch 28/1000\n",
      "327231/327231 [==============================] - 24s 74us/step - loss: 1.4891e-06 - val_loss: 3.6540e-06\n",
      "Epoch 29/1000\n",
      "327231/327231 [==============================] - 24s 73us/step - loss: 1.4910e-06 - val_loss: 3.3459e-06\n",
      "Epoch 30/1000\n",
      "327231/327231 [==============================] - 25s 76us/step - loss: 1.4868e-06 - val_loss: 3.3872e-06\n",
      "Epoch 31/1000\n",
      "327231/327231 [==============================] - 24s 74us/step - loss: 1.4851e-06 - val_loss: 3.9434e-06\n",
      "Epoch 32/1000\n",
      "327231/327231 [==============================] - 24s 74us/step - loss: 1.4763e-06 - val_loss: 3.6024e-06\n",
      "Epoch 33/1000\n",
      "327231/327231 [==============================] - 24s 74us/step - loss: 1.4754e-06 - val_loss: 3.4115e-06\n",
      "Epoch 34/1000\n",
      "327231/327231 [==============================] - 24s 74us/step - loss: 1.4832e-06 - val_loss: 3.3862e-06\n",
      "Epoch 35/1000\n",
      "327231/327231 [==============================] - 24s 75us/step - loss: 1.4804e-06 - val_loss: 3.4318e-06\n",
      "Epoch 36/1000\n",
      "327231/327231 [==============================] - 25s 75us/step - loss: 1.4703e-06 - val_loss: 3.4391e-06\n",
      "Epoch 37/1000\n",
      "327231/327231 [==============================] - 24s 74us/step - loss: 1.4739e-06 - val_loss: 3.7808e-06\n",
      "Epoch 38/1000\n",
      "327231/327231 [==============================] - 24s 74us/step - loss: 1.4646e-06 - val_loss: 3.4907e-06\n",
      "Epoch 39/1000\n",
      "327231/327231 [==============================] - 24s 74us/step - loss: 1.4738e-06 - val_loss: 3.6774e-06\n",
      "Epoch 40/1000\n",
      "327231/327231 [==============================] - 25s 75us/step - loss: 1.4576e-06 - val_loss: 3.3672e-06\n",
      "Epoch 41/1000\n",
      "327231/327231 [==============================] - 24s 74us/step - loss: 1.4624e-06 - val_loss: 3.3328e-06\n",
      "Epoch 42/1000\n",
      "327231/327231 [==============================] - 19s 59us/step - loss: 1.4590e-06 - val_loss: 3.6626e-06\n",
      "Epoch 43/1000\n",
      "327231/327231 [==============================] - 23s 72us/step - loss: 1.4631e-06 - val_loss: 3.4979e-06\n",
      "Epoch 44/1000\n",
      "327231/327231 [==============================] - 24s 74us/step - loss: 1.4538e-06 - val_loss: 3.3764e-06\n",
      "Epoch 45/1000\n",
      "327231/327231 [==============================] - 24s 74us/step - loss: 1.4454e-06 - val_loss: 3.6572e-06\n",
      "Epoch 46/1000\n",
      "327231/327231 [==============================] - 24s 74us/step - loss: 1.4499e-06 - val_loss: 3.3008e-06\n",
      "Epoch 47/1000\n",
      "327231/327231 [==============================] - 24s 74us/step - loss: 1.4352e-06 - val_loss: 3.3161e-06\n",
      "Epoch 48/1000\n",
      "327231/327231 [==============================] - 25s 75us/step - loss: 1.4430e-06 - val_loss: 3.3764e-06\n",
      "Epoch 49/1000\n",
      "327231/327231 [==============================] - 24s 73us/step - loss: 1.4527e-06 - val_loss: 3.3341e-06\n",
      "Epoch 50/1000\n",
      "327231/327231 [==============================] - 24s 75us/step - loss: 1.4417e-06 - val_loss: 3.3262e-06\n",
      "Epoch 51/1000\n",
      "327231/327231 [==============================] - 24s 74us/step - loss: 1.4480e-06 - val_loss: 3.3168e-06\n",
      "Epoch 52/1000\n",
      "327231/327231 [==============================] - 24s 74us/step - loss: 1.4420e-06 - val_loss: 3.3052e-06\n",
      "Epoch 53/1000\n",
      "327231/327231 [==============================] - 24s 75us/step - loss: 1.4354e-06 - val_loss: 3.3670e-06\n",
      "Epoch 54/1000\n",
      "327231/327231 [==============================] - 24s 74us/step - loss: 1.4386e-06 - val_loss: 3.3877e-06\n",
      "Epoch 55/1000\n",
      "327231/327231 [==============================] - 38s 115us/step - loss: 1.4357e-06 - val_loss: 3.4516e-06\n",
      "Epoch 56/1000\n",
      "327231/327231 [==============================] - 215s 656us/step - loss: 1.4472e-06 - val_loss: 3.3440e-06\n",
      "Epoch 57/1000\n",
      "327231/327231 [==============================] - 25s 76us/step - loss: 1.4276e-06 - val_loss: 3.6453e-06\n",
      "Epoch 58/1000\n",
      "327231/327231 [==============================] - 25s 75us/step - loss: 1.4281e-06 - val_loss: 3.6141e-06\n",
      "Epoch 59/1000\n",
      "327231/327231 [==============================] - 25s 76us/step - loss: 1.4250e-06 - val_loss: 3.4109e-06\n",
      "Epoch 60/1000\n",
      "327231/327231 [==============================] - 25s 75us/step - loss: 1.4356e-06 - val_loss: 3.2927e-06\n",
      "Epoch 61/1000\n",
      "327231/327231 [==============================] - 25s 76us/step - loss: 1.4205e-06 - val_loss: 3.8995e-06\n",
      "Epoch 62/1000\n",
      "327231/327231 [==============================] - 25s 76us/step - loss: 1.4198e-06 - val_loss: 3.2745e-06\n",
      "Epoch 63/1000\n",
      "327231/327231 [==============================] - 25s 76us/step - loss: 1.4289e-06 - val_loss: 3.4508e-06\n",
      "Epoch 64/1000\n",
      "327231/327231 [==============================] - 24s 72us/step - loss: 1.4279e-06 - val_loss: 3.4879e-06\n",
      "Epoch 65/1000\n",
      "327231/327231 [==============================] - 23s 71us/step - loss: 1.4142e-06 - val_loss: 3.4405e-06\n",
      "Epoch 66/1000\n",
      "327231/327231 [==============================] - 24s 72us/step - loss: 1.4437e-06 - val_loss: 3.3289e-06\n",
      "Epoch 67/1000\n",
      "327231/327231 [==============================] - 24s 72us/step - loss: 1.4157e-06 - val_loss: 3.3979e-06\n",
      "Epoch 68/1000\n",
      "327231/327231 [==============================] - 23s 71us/step - loss: 1.4215e-06 - val_loss: 3.3664e-06\n",
      "Epoch 69/1000\n",
      "327231/327231 [==============================] - 39s 118us/step - loss: 1.4204e-06 - val_loss: 3.3162e-06\n",
      "Epoch 70/1000\n",
      "327231/327231 [==============================] - 78s 239us/step - loss: 1.4150e-06 - val_loss: 3.4324e-06\n",
      "Epoch 71/1000\n",
      "327231/327231 [==============================] - 23s 71us/step - loss: 1.4236e-06 - val_loss: 3.3762e-06\n",
      "Epoch 72/1000\n",
      "327231/327231 [==============================] - 24s 73us/step - loss: 1.4218e-06 - val_loss: 3.2706e-06\n",
      "Epoch 73/1000\n",
      "327231/327231 [==============================] - 23s 72us/step - loss: 1.4082e-06 - val_loss: 3.2754e-06\n",
      "Epoch 74/1000\n",
      "327231/327231 [==============================] - 22s 67us/step - loss: 1.4175e-06 - val_loss: 3.3305e-06\n",
      "Epoch 75/1000\n",
      "327231/327231 [==============================] - 22s 66us/step - loss: 1.4121e-06 - val_loss: 3.4190e-06\n",
      "Epoch 76/1000\n",
      "327231/327231 [==============================] - 22s 67us/step - loss: 1.4199e-06 - val_loss: 3.3939e-06\n",
      "Epoch 77/1000\n",
      "327231/327231 [==============================] - 22s 66us/step - loss: 1.4083e-06 - val_loss: 3.6508e-06\n",
      "Epoch 78/1000\n",
      "327231/327231 [==============================] - 22s 66us/step - loss: 1.4061e-06 - val_loss: 3.3269e-06\n",
      "Epoch 79/1000\n",
      "327231/327231 [==============================] - 21s 64us/step - loss: 1.4060e-06 - val_loss: 3.3587e-06\n",
      "Epoch 80/1000\n",
      "327231/327231 [==============================] - 23s 69us/step - loss: 1.4064e-06 - val_loss: 3.3538e-06\n",
      "Epoch 81/1000\n",
      "327231/327231 [==============================] - 24s 74us/step - loss: 1.4069e-06 - val_loss: 3.3160e-06\n",
      "Epoch 82/1000\n",
      "327231/327231 [==============================] - 24s 73us/step - loss: 1.3989e-06 - val_loss: 3.4994e-06\n",
      "Epoch 83/1000\n",
      "327231/327231 [==============================] - 24s 73us/step - loss: 1.4120e-06 - val_loss: 3.3627e-06\n",
      "Epoch 84/1000\n",
      "327231/327231 [==============================] - 24s 74us/step - loss: 1.4078e-06 - val_loss: 3.3736e-06\n",
      "Epoch 85/1000\n",
      "327231/327231 [==============================] - 22s 69us/step - loss: 1.3974e-06 - val_loss: 3.3223e-06\n",
      "Epoch 86/1000\n",
      "327231/327231 [==============================] - 25s 76us/step - loss: 1.4070e-06 - val_loss: 3.3186e-06\n",
      "Epoch 87/1000\n",
      "327231/327231 [==============================] - 25s 76us/step - loss: 1.4123e-06 - val_loss: 3.3112e-06\n",
      "Epoch 88/1000\n",
      "327231/327231 [==============================] - 24s 73us/step - loss: 1.4005e-06 - val_loss: 3.3169e-06\n",
      "Epoch 89/1000\n",
      "327231/327231 [==============================] - 24s 74us/step - loss: 1.4050e-06 - val_loss: 3.3907e-06\n",
      "Epoch 90/1000\n",
      "327231/327231 [==============================] - 24s 74us/step - loss: 1.4118e-06 - val_loss: 3.5498e-06\n",
      "Epoch 91/1000\n",
      "327231/327231 [==============================] - 24s 74us/step - loss: 1.4032e-06 - val_loss: 3.3306e-06\n",
      "Epoch 92/1000\n",
      "327231/327231 [==============================] - 24s 74us/step - loss: 1.3993e-06 - val_loss: 3.3937e-06\n",
      "Epoch 93/1000\n",
      "327231/327231 [==============================] - 24s 74us/step - loss: 1.4058e-06 - val_loss: 3.3151e-06\n",
      "Epoch 94/1000\n",
      "327231/327231 [==============================] - 24s 75us/step - loss: 1.4094e-06 - val_loss: 3.2987e-06\n",
      "Epoch 95/1000\n",
      "327231/327231 [==============================] - 24s 74us/step - loss: 1.3910e-06 - val_loss: 3.4808e-06\n",
      "Epoch 96/1000\n",
      "327231/327231 [==============================] - 24s 74us/step - loss: 1.4017e-06 - val_loss: 3.3418e-06\n",
      "Epoch 97/1000\n",
      "327231/327231 [==============================] - 24s 74us/step - loss: 1.3918e-06 - val_loss: 3.8374e-06\n",
      "Epoch 98/1000\n",
      "327231/327231 [==============================] - 115s 352us/step - loss: 1.4004e-06 - val_loss: 3.4996e-06\n",
      "Epoch 99/1000\n",
      "327231/327231 [==============================] - 20s 61us/step - loss: 1.3975e-06 - val_loss: 3.3094e-06\n",
      "Epoch 100/1000\n",
      "327231/327231 [==============================] - 25s 77us/step - loss: 1.4007e-06 - val_loss: 3.2409e-06\n",
      "Epoch 101/1000\n",
      "327231/327231 [==============================] - 24s 75us/step - loss: 1.3992e-06 - val_loss: 3.3531e-06\n",
      "Epoch 102/1000\n",
      "327231/327231 [==============================] - 24s 74us/step - loss: 1.3907e-06 - val_loss: 3.3091e-06\n",
      "Epoch 103/1000\n",
      "327231/327231 [==============================] - 24s 74us/step - loss: 1.3904e-06 - val_loss: 3.4209e-06\n",
      "Epoch 104/1000\n",
      "327231/327231 [==============================] - 24s 74us/step - loss: 1.3865e-06 - val_loss: 3.3795e-06\n",
      "Epoch 105/1000\n",
      "327231/327231 [==============================] - 24s 74us/step - loss: 1.4047e-06 - val_loss: 3.3432e-06\n",
      "Epoch 106/1000\n",
      "327231/327231 [==============================] - 25s 75us/step - loss: 1.3916e-06 - val_loss: 3.5788e-06\n",
      "Epoch 107/1000\n",
      "327231/327231 [==============================] - 24s 74us/step - loss: 1.3832e-06 - val_loss: 3.2985e-06\n",
      "Epoch 108/1000\n",
      "327231/327231 [==============================] - 25s 76us/step - loss: 1.3997e-06 - val_loss: 3.3266e-06\n",
      "Epoch 109/1000\n",
      "327231/327231 [==============================] - 25s 75us/step - loss: 1.3802e-06 - val_loss: 3.3838e-06\n",
      "Epoch 110/1000\n",
      "327231/327231 [==============================] - 25s 75us/step - loss: 1.3891e-06 - val_loss: 3.6601e-06\n",
      "Epoch 111/1000\n",
      "327231/327231 [==============================] - 25s 75us/step - loss: 1.3799e-06 - val_loss: 3.3523e-06\n",
      "Epoch 112/1000\n",
      "327231/327231 [==============================] - 24s 74us/step - loss: 1.3887e-06 - val_loss: 3.3408e-06\n",
      "Epoch 113/1000\n",
      "327231/327231 [==============================] - 25s 75us/step - loss: 1.3886e-06 - val_loss: 3.2756e-06\n",
      "Epoch 114/1000\n",
      "327231/327231 [==============================] - 24s 75us/step - loss: 1.3846e-06 - val_loss: 3.3775e-06\n",
      "Epoch 115/1000\n",
      "327231/327231 [==============================] - 25s 75us/step - loss: 1.3820e-06 - val_loss: 3.3257e-06\n",
      "Epoch 116/1000\n",
      "327231/327231 [==============================] - 24s 75us/step - loss: 1.3812e-06 - val_loss: 3.9546e-06\n",
      "Epoch 117/1000\n",
      "327231/327231 [==============================] - 25s 75us/step - loss: 1.3962e-06 - val_loss: 3.3147e-06\n",
      "Epoch 118/1000\n",
      "327231/327231 [==============================] - 25s 75us/step - loss: 1.3762e-06 - val_loss: 3.2880e-06\n",
      "Epoch 119/1000\n",
      "327231/327231 [==============================] - 25s 76us/step - loss: 1.3837e-06 - val_loss: 3.2692e-06\n",
      "Epoch 120/1000\n",
      "327231/327231 [==============================] - 25s 76us/step - loss: 1.3951e-06 - val_loss: 3.2759e-06\n",
      "Epoch 121/1000\n",
      "327231/327231 [==============================] - 26s 78us/step - loss: 1.3890e-06 - val_loss: 3.2626e-06\n",
      "Epoch 122/1000\n",
      "327231/327231 [==============================] - 25s 76us/step - loss: 1.3849e-06 - val_loss: 3.3050e-06\n",
      "Epoch 123/1000\n",
      "327231/327231 [==============================] - 25s 76us/step - loss: 1.3826e-06 - val_loss: 3.2941e-06\n",
      "Epoch 124/1000\n",
      "327231/327231 [==============================] - 25s 77us/step - loss: 1.3774e-06 - val_loss: 3.3575e-06\n",
      "Epoch 125/1000\n",
      "327231/327231 [==============================] - 25s 77us/step - loss: 1.3848e-06 - val_loss: 3.2583e-06\n",
      "Epoch 126/1000\n",
      "327231/327231 [==============================] - 25s 76us/step - loss: 1.3822e-06 - val_loss: 3.4405e-06\n",
      "Epoch 127/1000\n",
      "327231/327231 [==============================] - 25s 77us/step - loss: 1.3780e-06 - val_loss: 3.3355e-06\n",
      "Epoch 128/1000\n",
      "327231/327231 [==============================] - 25s 77us/step - loss: 1.3917e-06 - val_loss: 3.2579e-06\n",
      "Epoch 00128: early stopping\n"
     ]
    },
    {
     "data": {
      "text/plain": [
       "<keras.callbacks.History at 0x7f500b5d7630>"
      ]
     },
     "execution_count": 17,
     "metadata": {},
     "output_type": "execute_result"
    }
   ],
   "source": [
    "model = buildManyToOneModel(X_train.shape)\n",
    "callback = EarlyStopping(monitor=\"loss\", patience=10, verbose=1, mode=\"auto\")\n",
    "model.fit(X_train, Y_train, epochs=1000, batch_size=128, validation_data=(X_val, Y_val), callbacks=[callback])\n"
   ]
  },
  {
   "cell_type": "code",
   "execution_count": 18,
   "metadata": {},
   "outputs": [],
   "source": [
    "predict_train = model.predict(X_train)\n",
    "predict_test = model.predict(X_predict)"
   ]
  },
  {
   "cell_type": "code",
   "execution_count": 19,
   "metadata": {},
   "outputs": [],
   "source": [
    "predict_test_lstm = unnormalize(predict_test, close_mean, close_std)\n",
    "predict_train_lstm = unnormalize(predict_train, close_mean, close_std)\n",
    "Y_train_lstm = unnormalize(Y_train, close_mean, close_std)\n",
    "Y_predict_lstm = unnormalize(Y_predict, close_mean, close_std)"
   ]
  },
  {
   "cell_type": "code",
   "execution_count": 23,
   "metadata": {},
   "outputs": [
    {
     "data": {
      "image/png": "[encoded data removed]",
      "text/plain": [
       "<Figure size 432x288 with 1 Axes>"
      ]
     },
     "metadata": {},
     "output_type": "display_data"
    }
   ],
   "source": [
    "plt.plot(np.arange(len(Y_train_lstm)), predict_train_lstm, label='Prediction', linewidth=0.3)\n",
    "plt.plot(np.arange(len(Y_train_lstm)), Y_train_lstm, label='True Data', linewidth=0.3)\n",
    "plt.xlabel(' ')\n",
    "plt.xticks([])\n",
    "plt.ylabel('Close')\n",
    "plt.title('Train Set')\n",
    "plt.legend()\n",
    "plt.show()"
   ]
  },
  {
   "cell_type": "code",
   "execution_count": 24,
   "metadata": {
    "scrolled": true
   },
   "outputs": [
    {
     "data": {
      "image/png": "[encoded data removed]",
      "text/plain": [
       "<Figure size 432x288 with 1 Axes>"
      ]
     },
     "metadata": {},
     "output_type": "display_data"
    }
   ],
   "source": [
    "plt.plot(np.arange(len(Y_predict_lstm)), predict_test_lstm, label='Prediction', linewidth=0.3)\n",
    "plt.plot(np.arange(len(Y_predict_lstm)), Y_predict_lstm, label='True Data', linewidth=0.3)\n",
    "plt.xlabel(' ')\n",
    "plt.xticks([])\n",
    "plt.ylabel('Close')\n",
    "plt.title('Test Set')\n",
    "plt.legend()\n",
    "plt.show()"
   ]
  },
  {
   "cell_type": "code",
   "execution_count": 27,
   "metadata": {},
   "outputs": [
    {
     "data": {
      "image/png": "[encoded data removed]",
      "text/plain": [
       "<Figure size 432x288 with 1 Axes>"
      ]
     },
     "metadata": {},
     "output_type": "display_data"
    }
   ],
   "source": [
    "plt.plot(np.arange(len(Y_predict[-500:])), predict_test[-500:], label='Prediction', linewidth=0.3)\n",
    "plt.plot(np.arange(len(Y_predict[-500:])), Y_predict[-500:], label='True Data', linewidth=0.3)\n",
    "plt.xlabel(' ')\n",
    "plt.xticks([])\n",
    "plt.ylabel('Close')\n",
    "plt.title('Test Set')\n",
    "plt.legend()\n",
    "plt.show()"
   ]
  },
  {
   "cell_type": "code",
   "execution_count": null,
   "metadata": {},
   "outputs": [],
   "source": []
  },
  {
   "cell_type": "code",
   "execution_count": 1,
   "metadata": {},
   "outputs": [
    {
     "ename": "NameError",
     "evalue": "name 'df' is not defined",
     "output_type": "error",
     "traceback": [
      "\u001b[0;31m---------------------------------------------------------------------------\u001b[0m",
      "\u001b[0;31mNameError\u001b[0m                                 Traceback (most recent call last)",
      "\u001b[0;32m<ipython-input-1-4d410358643a>\u001b[0m in \u001b[0;36m<module>\u001b[0;34m()\u001b[0m\n\u001b[0;32m----> 1\u001b[0;31m \u001b[0mdf\u001b[0m\u001b[0;34m.\u001b[0m\u001b[0miloc\u001b[0m\u001b[0;34m[\u001b[0m\u001b[0;36m0\u001b[0m\u001b[0;34m]\u001b[0m\u001b[0;34m\u001b[0m\u001b[0m\n\u001b[0m",
      "\u001b[0;31mNameError\u001b[0m: name 'df' is not defined"
     ]
    }
   ],
   "source": [
    "df.iloc[0]"
   ]
  },
  {
   "cell_type": "code",
   "execution_count": null,
   "metadata": {},
   "outputs": [],
   "source": []
  },
  {
   "cell_type": "code",
   "execution_count": null,
   "metadata": {},
   "outputs": [],
   "source": []
  },
  {
   "cell_type": "code",
   "execution_count": null,
   "metadata": {},
   "outputs": [],
   "source": []
  }
 ],
 "metadata": {
  "kernelspec": {
   "display_name": "Python 3",
   "language": "python",
   "name": "python3"
  },
  "language_info": {
   "codemirror_mode": {
    "name": "ipython",
    "version": 3
   },
   "file_extension": ".py",
   "mimetype": "text/x-python",
   "name": "python",
   "nbconvert_exporter": "python",
   "pygments_lexer": "ipython3",
   "version": "3.5.2"
  }
 },
 "nbformat": 4,
 "nbformat_minor": 2
}
