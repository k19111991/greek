{
 "cells": [
  {
   "cell_type": "code",
   "execution_count": 2,
   "metadata": {},
   "outputs": [],
   "source": [
    "import numpy as np\n",
    "import pandas as pd\n",
    "import matplotlib.pyplot as plt\n",
    "import math\n",
    "from scipy.stats import norm"
   ]
  },
  {
   "cell_type": "code",
   "execution_count": 3,
   "metadata": {},
   "outputs": [],
   "source": [
    "def dN(x):\n",
    "    return math.exp(-0.5*x**2)/math.sqrt(2*math.pi)\n",
    "\n",
    "def N(d):\n",
    "    return quad(lambda x:dN(x),-20,d,limit=50)[0]\n",
    "\n",
    "def d1f(St, K, t, T, r, sigma):\n",
    "    d1 = (math.log(St / K) + (r + 0.5 * sigma ** 2) * (T - t)) / (sigma * math.sqrt(T - t))\n",
    "    return d1\n",
    "\n",
    "def BSM_call_value(St, K, t, T, r, sigma):\n",
    "    d1=d1f(St,K,t,T,r,sigma)\n",
    "    d2=d1-sigma*math.sqrt(T-t)\n",
    "    call_value = St * N(d1) - math.exp(-r * (T - t)) * K * N(d2)\n",
    "    return call_value\n",
    "\n",
    "def BSM_put_value(St, K, t, T, r, sigma):\n",
    "    put_value = BSM_call_value(St,K,t,T,r,sigma)-St + math.exp(-r * (T - t)) * K\n",
    "    return put_value"
   ]
  },
  {
   "cell_type": "code",
   "execution_count": 4,
   "metadata": {},
   "outputs": [],
   "source": [
    "def BSM_delta (St, K, t, T, r, sigma):\n",
    "    d1=d1f(St, K, t, T, r, sigma)\n",
    "    delta=N(d1)\n",
    "    return delta\n",
    "\n",
    "def BSM_gamma(St, K, t, T, r, sigma):\n",
    "    d1=d1f(St, K, t, T, r, sigma)\n",
    "    gamma=dN(d1) / (St * sigma*math.sqrt(T-t))\n",
    "    return gamma\n",
    "\n",
    "def BSM_theta(St, K, t, T, r,sigma): #轉成正值\n",
    "    d1 = d1f(St, K, t, T, r, sigma)\n",
    "    d2 = d1 - sigma * math.sqrt(T - t)\n",
    "    theta = -(St * dN(d1) * sigma / (2 * math.sqrt(T - t))\n",
    "              + r * K * math.exp(-r * (T - t)) * N(d2))\n",
    "    return -theta\n",
    "\n",
    "def BSM_rho(St, K, t, T, r, sigma):\n",
    "    d1 = d1f(St, K, t, T, r, sigma)\n",
    "    d2 = d1 - sigma * math.sqrt(T - t)\n",
    "    rho = K * (T - t) * math.exp(-r * (T - t)) * N(d2)\n",
    "    return rho\n",
    "\n",
    "def BSM_vega(St, K, t, T, r, sigma):\n",
    "    d1 = d1f(St, K, t, T, r, sigma)\n",
    "    vega = St * dN(d1) * math.sqrt(T - t)\n",
    "    return vega\n",
    "\n",
    "def BSM_vanna(St, K, t, T, r, sigma):\n",
    "    d1 = d1f(St, K, t, T, r, sigma)\n",
    "    d2 = d1 - sigma * math.sqrt(T - t)\n",
    "    return dN(d1) * (-d2) / sigma"
   ]
  },
  {
   "cell_type": "code",
   "execution_count": 5,
   "metadata": {},
   "outputs": [],
   "source": [
    "n = norm.pdf\n",
    "N = norm.cdf\n",
    "\n",
    "def bs(cp_flag, S, K, r, q, T, sigma):\n",
    "    d1 = (np.log(S / K) + (r - q + (sigma ** 2) * 0.5) * T) / (sigma * np.sqrt(T))\n",
    "    d2 = d1 - sigma * np.sqrt(T)\n",
    "    if cp_flag == 'c':\n",
    "        price = S * np.exp(-q * T) * N(d1) - K * np.exp(-r * T) * N(d2)\n",
    "    else:\n",
    "        price = K * np.exp(-r * T) * N(-d2) - S * np.exp(-q * T) * N(-d1)\n",
    "    return price\n",
    "\n",
    "def bs_diff(cp_flag, S, K, r, q, T, sigma):\n",
    "    d1 = (np.log(S / K) + (r - q + (sigma ** 2) * 0.5) * T) / (sigma * np.sqrt(T))\n",
    "    return S * np.sqrt(T) * n(d1)\n",
    "\n",
    "def find_vol(target_value, call_put, S, K, T, r, q):\n",
    "    MAX_ITERATIONS = 1000\n",
    "    PRECISION = 1.0e-10\n",
    "\n",
    "    sigma = 0.5\n",
    "    for i in range(0, MAX_ITERATIONS):\n",
    "        price = bs(call_put, S, K, r, q, T, sigma)\n",
    "        bs_dif = bs_diff(call_put, S, K, r, q, T, sigma)\n",
    "\n",
    "        price = price\n",
    "        diff = target_value - price  # our root\n",
    "\n",
    "#         print (i, sigma, diff)\n",
    "\n",
    "        if (abs(diff) < PRECISION):\n",
    "            return sigma\n",
    "        sigma = sigma + diff/bs_dif # f(x) / f'(x)\n",
    "\n",
    "    # value wasn't found, return best guess so far\n",
    "    return sigma"
   ]
  },
  {
   "cell_type": "code",
   "execution_count": 6,
   "metadata": {},
   "outputs": [],
   "source": [
    "vol = lambda p_list, strike, cp : [find_vol(p_list[i], cp, S, strike[i], T, r, q) for i in range(len(strike))]"
   ]
  },
  {
   "cell_type": "code",
   "execution_count": 7,
   "metadata": {},
   "outputs": [],
   "source": [
    "K = np.linspace(-1, 1, 13) * 300 + 11000\n",
    "call_b = [341, 297, 256, 217, 180, 145, 114, 87, 63, 44, 29.5, 18.5, 11.5]\n",
    "call_a = [345, 305, 259, 219, 181, 147, 115, 88, 65, 45, 30, 19, 12]\n",
    "put_b = [27.5, 34, 42, 52, 64, 80, 98, 121, 148, 178, 213, 251, 295]\n",
    "put_a = [28, 34.5, 43, 54, 66, 81, 99, 123, 149, 181, 216, 256, 300]"
   ]
  },
  {
   "cell_type": "code",
   "execution_count": 8,
   "metadata": {},
   "outputs": [],
   "source": [
    "# S = 11010 * np.exp(- r * T)\n",
    "r = 0.01\n",
    "T = 1 / 52\n",
    "q = 0"
   ]
  },
  {
   "cell_type": "code",
   "execution_count": 9,
   "metadata": {},
   "outputs": [],
   "source": [
    "S = 11010 * np.exp(r * T)\n",
    "call_b_v = vol(call_b, K, 'c')\n",
    "call_a_v = vol(call_a, K, 'c')\n",
    "put_b_v = vol(put_b, K, 'p')\n",
    "put_a_v = vol(put_a, K, 'p')"
   ]
  },
  {
   "cell_type": "code",
   "execution_count": 10,
   "metadata": {},
   "outputs": [],
   "source": [
    "voll = pd.DataFrame([call_b_v, call_a_v, put_b_v, put_a_v])"
   ]
  },
  {
   "cell_type": "code",
   "execution_count": 11,
   "metadata": {},
   "outputs": [],
   "source": [
    "voll.columns = K"
   ]
  },
  {
   "cell_type": "code",
   "execution_count": 12,
   "metadata": {},
   "outputs": [
    {
     "data": {
      "text/html": [
       "<div>\n",
       "<style scoped>\n",
       "    .dataframe tbody tr th:only-of-type {\n",
       "        vertical-align: middle;\n",
       "    }\n",
       "\n",
       "    .dataframe tbody tr th {\n",
       "        vertical-align: top;\n",
       "    }\n",
       "\n",
       "    .dataframe thead th {\n",
       "        text-align: right;\n",
       "    }\n",
       "</style>\n",
       "<table border=\"1\" class=\"dataframe\">\n",
       "  <thead>\n",
       "    <tr style=\"text-align: right;\">\n",
       "      <th></th>\n",
       "      <th>10700.0</th>\n",
       "      <th>10750.0</th>\n",
       "      <th>10800.0</th>\n",
       "      <th>10850.0</th>\n",
       "      <th>10900.0</th>\n",
       "      <th>10950.0</th>\n",
       "      <th>11000.0</th>\n",
       "      <th>11050.0</th>\n",
       "      <th>11100.0</th>\n",
       "      <th>11150.0</th>\n",
       "      <th>11200.0</th>\n",
       "      <th>11250.0</th>\n",
       "      <th>11300.0</th>\n",
       "    </tr>\n",
       "  </thead>\n",
       "  <tbody>\n",
       "    <tr>\n",
       "      <td>0</td>\n",
       "      <td>0.210507</td>\n",
       "      <td>0.202741</td>\n",
       "      <td>0.198280</td>\n",
       "      <td>0.193545</td>\n",
       "      <td>0.187938</td>\n",
       "      <td>0.180951</td>\n",
       "      <td>0.175311</td>\n",
       "      <td>0.170273</td>\n",
       "      <td>0.163648</td>\n",
       "      <td>0.158504</td>\n",
       "      <td>0.154306</td>\n",
       "      <td>0.149649</td>\n",
       "      <td>0.147546</td>\n",
       "    </tr>\n",
       "    <tr>\n",
       "      <td>1</td>\n",
       "      <td>0.221143</td>\n",
       "      <td>0.221442</td>\n",
       "      <td>0.204648</td>\n",
       "      <td>0.197402</td>\n",
       "      <td>0.189724</td>\n",
       "      <td>0.184333</td>\n",
       "      <td>0.176956</td>\n",
       "      <td>0.171928</td>\n",
       "      <td>0.167111</td>\n",
       "      <td>0.160406</td>\n",
       "      <td>0.155408</td>\n",
       "      <td>0.151010</td>\n",
       "      <td>0.149304</td>\n",
       "    </tr>\n",
       "    <tr>\n",
       "      <td>2</td>\n",
       "      <td>0.212337</td>\n",
       "      <td>0.205585</td>\n",
       "      <td>0.198695</td>\n",
       "      <td>0.192003</td>\n",
       "      <td>0.184740</td>\n",
       "      <td>0.179637</td>\n",
       "      <td>0.172404</td>\n",
       "      <td>0.167365</td>\n",
       "      <td>0.162350</td>\n",
       "      <td>0.155180</td>\n",
       "      <td>0.149331</td>\n",
       "      <td>0.140547</td>\n",
       "      <td>0.139339</td>\n",
       "    </tr>\n",
       "    <tr>\n",
       "      <td>3</td>\n",
       "      <td>0.213683</td>\n",
       "      <td>0.206776</td>\n",
       "      <td>0.200827</td>\n",
       "      <td>0.195869</td>\n",
       "      <td>0.188320</td>\n",
       "      <td>0.181329</td>\n",
       "      <td>0.174049</td>\n",
       "      <td>0.170674</td>\n",
       "      <td>0.164084</td>\n",
       "      <td>0.160903</td>\n",
       "      <td>0.156004</td>\n",
       "      <td>0.154440</td>\n",
       "      <td>0.156987</td>\n",
       "    </tr>\n",
       "  </tbody>\n",
       "</table>\n",
       "</div>"
      ],
      "text/plain": [
       "    10700.0   10750.0   10800.0   10850.0   10900.0   10950.0   11000.0  \\\n",
       "0  0.210507  0.202741  0.198280  0.193545  0.187938  0.180951  0.175311   \n",
       "1  0.221143  0.221442  0.204648  0.197402  0.189724  0.184333  0.176956   \n",
       "2  0.212337  0.205585  0.198695  0.192003  0.184740  0.179637  0.172404   \n",
       "3  0.213683  0.206776  0.200827  0.195869  0.188320  0.181329  0.174049   \n",
       "\n",
       "    11050.0   11100.0   11150.0   11200.0   11250.0   11300.0  \n",
       "0  0.170273  0.163648  0.158504  0.154306  0.149649  0.147546  \n",
       "1  0.171928  0.167111  0.160406  0.155408  0.151010  0.149304  \n",
       "2  0.167365  0.162350  0.155180  0.149331  0.140547  0.139339  \n",
       "3  0.170674  0.164084  0.160903  0.156004  0.154440  0.156987  "
      ]
     },
     "execution_count": 12,
     "metadata": {},
     "output_type": "execute_result"
    }
   ],
   "source": [
    "voll"
   ]
  },
  {
   "cell_type": "code",
   "execution_count": 13,
   "metadata": {},
   "outputs": [],
   "source": [
    "vola = pd.DataFrame(voll.apply(lambda x: x.sort_values().values).iloc[[1,2], :].mean()).transpose()"
   ]
  },
  {
   "cell_type": "code",
   "execution_count": 14,
   "metadata": {},
   "outputs": [
    {
     "data": {
      "text/html": [
       "<div>\n",
       "<style scoped>\n",
       "    .dataframe tbody tr th:only-of-type {\n",
       "        vertical-align: middle;\n",
       "    }\n",
       "\n",
       "    .dataframe tbody tr th {\n",
       "        vertical-align: top;\n",
       "    }\n",
       "\n",
       "    .dataframe thead th {\n",
       "        text-align: right;\n",
       "    }\n",
       "</style>\n",
       "<table border=\"1\" class=\"dataframe\">\n",
       "  <thead>\n",
       "    <tr style=\"text-align: right;\">\n",
       "      <th></th>\n",
       "      <th>10700.0</th>\n",
       "      <th>10750.0</th>\n",
       "      <th>10800.0</th>\n",
       "      <th>10850.0</th>\n",
       "      <th>10900.0</th>\n",
       "      <th>10950.0</th>\n",
       "      <th>11000.0</th>\n",
       "      <th>11050.0</th>\n",
       "      <th>11100.0</th>\n",
       "      <th>11150.0</th>\n",
       "      <th>11200.0</th>\n",
       "      <th>11250.0</th>\n",
       "      <th>11300.0</th>\n",
       "    </tr>\n",
       "  </thead>\n",
       "  <tbody>\n",
       "    <tr>\n",
       "      <td>0</td>\n",
       "      <td>0.21301</td>\n",
       "      <td>0.206181</td>\n",
       "      <td>0.199761</td>\n",
       "      <td>0.194707</td>\n",
       "      <td>0.188129</td>\n",
       "      <td>0.18114</td>\n",
       "      <td>0.17468</td>\n",
       "      <td>0.170474</td>\n",
       "      <td>0.163866</td>\n",
       "      <td>0.159455</td>\n",
       "      <td>0.154857</td>\n",
       "      <td>0.150329</td>\n",
       "      <td>0.148425</td>\n",
       "    </tr>\n",
       "  </tbody>\n",
       "</table>\n",
       "</div>"
      ],
      "text/plain": [
       "   10700.0   10750.0   10800.0   10850.0   10900.0  10950.0  11000.0  \\\n",
       "0  0.21301  0.206181  0.199761  0.194707  0.188129  0.18114  0.17468   \n",
       "\n",
       "    11050.0   11100.0   11150.0   11200.0   11250.0   11300.0  \n",
       "0  0.170474  0.163866  0.159455  0.154857  0.150329  0.148425  "
      ]
     },
     "execution_count": 14,
     "metadata": {},
     "output_type": "execute_result"
    }
   ],
   "source": [
    "vola"
   ]
  },
  {
   "cell_type": "code",
   "execution_count": 43,
   "metadata": {},
   "outputs": [
    {
     "data": {
      "text/plain": [
       "<matplotlib.legend.Legend at 0x20c1fe36148>"
      ]
     },
     "execution_count": 43,
     "metadata": {},
     "output_type": "execute_result"
    },
    {
     "data": {
      "image/png": "[encoded data removed]",
      "text/plain": [
       "<Figure size 432x288 with 1 Axes>"
      ]
     },
     "metadata": {
      "needs_background": "light"
     },
     "output_type": "display_data"
    }
   ],
   "source": [
    "plt.figure()\n",
    "plt.scatter(K, call_b_v, marker='^', label='call bid')\n",
    "plt.scatter(K, call_a_v, marker='^', label='call ask')\n",
    "plt.scatter(K, put_b_v, marker='s', label='put bid')\n",
    "plt.scatter(K, put_a_v, marker='s', label='put ask')\n",
    "plt.legend()"
   ]
  },
  {
   "cell_type": "code",
   "execution_count": null,
   "metadata": {},
   "outputs": [],
   "source": [
    "vega = [BSM_vega(S, K[i], 0, T, r, vola.iloc[0, i]) for i in range(len(K))]"
   ]
  },
  {
   "cell_type": "code",
   "execution_count": null,
   "metadata": {},
   "outputs": [],
   "source": [
    "vega"
   ]
  },
  {
   "cell_type": "markdown",
   "metadata": {},
   "source": [
    "# 1"
   ]
  },
  {
   "cell_type": "code",
   "execution_count": 17,
   "metadata": {},
   "outputs": [],
   "source": [
    "from sklearn.svm import SVR\n",
    "from sklearn.metrics import mean_squared_error"
   ]
  },
  {
   "cell_type": "code",
   "execution_count": 209,
   "metadata": {},
   "outputs": [],
   "source": [
    "x = K.reshape(-1, 1)\n",
    "y = np.array(vola)[0]"
   ]
  },
  {
   "cell_type": "code",
   "execution_count": 210,
   "metadata": {},
   "outputs": [],
   "source": [
    "svr = SVR(kernel='rbf', C=1e2, gamma='auto', epsilon=1e-4, max_iter=1e5).fit(x, y)\n",
    "yfit = svr.predict(x)"
   ]
  },
  {
   "cell_type": "code",
   "execution_count": 211,
   "metadata": {},
   "outputs": [],
   "source": [
    "# # svr = SVR(kernel='poly', degree=2, C=1e3, gamma='auto', epsilon=1e-4).fit(x, y)\n",
    "# svr = SVR(kernel='poly', degree=3, C=1e1, gamma='auto', epsilon=1e-3, max_iter=1e7).fit(x, y)\n",
    "# yfit = svr.predict(x)"
   ]
  },
  {
   "cell_type": "code",
   "execution_count": 212,
   "metadata": {},
   "outputs": [
    {
     "data": {
      "text/plain": [
       "array([0.21309676, 0.20575225, 0.19966864, 0.19484226, 0.1882191 ,\n",
       "       0.18132183, 0.17434773, 0.17024551, 0.1641526 , 0.15979063,\n",
       "       0.15496425, 0.15061968, 0.14809256])"
      ]
     },
     "execution_count": 212,
     "metadata": {},
     "output_type": "execute_result"
    }
   ],
   "source": [
    "yfit"
   ]
  },
  {
   "cell_type": "code",
   "execution_count": 213,
   "metadata": {},
   "outputs": [
    {
     "data": {
      "image/png": "[encoded data removed]",
      "text/plain": [
       "<Figure size 432x288 with 1 Axes>"
      ]
     },
     "metadata": {
      "needs_background": "light"
     },
     "output_type": "display_data"
    }
   ],
   "source": [
    "plt.scatter(x, y, s=5, color=\"blue\", label=\"original\")\n",
    "plt.plot(x, yfit, lw=2, color=\"red\", label=\"fitted\")\n",
    "plt.legend()\n",
    "plt.show()"
   ]
  },
  {
   "cell_type": "code",
   "execution_count": 214,
   "metadata": {},
   "outputs": [
    {
     "data": {
      "text/plain": [
       "<matplotlib.legend.Legend at 0x20c22665e88>"
      ]
     },
     "execution_count": 214,
     "metadata": {},
     "output_type": "execute_result"
    },
    {
     "data": {
      "image/png": "[encoded data removed]",
      "text/plain": [
       "<Figure size 432x288 with 1 Axes>"
      ]
     },
     "metadata": {
      "needs_background": "light"
     },
     "output_type": "display_data"
    }
   ],
   "source": [
    "plt.figure()\n",
    "plt.scatter(K, call_b_v, marker='^', label='call bid')\n",
    "plt.scatter(K, call_a_v, marker='^', label='call ask')\n",
    "plt.scatter(K, put_b_v, marker='s', label='put bid')\n",
    "plt.scatter(K, put_a_v, marker='s', label='put ask')\n",
    "plt.plot(x, yfit, lw=2, color=\"gray\", label=\"fitted\")\n",
    "plt.legend()"
   ]
  },
  {
   "cell_type": "markdown",
   "metadata": {},
   "source": [
    "# 2"
   ]
  },
  {
   "cell_type": "code",
   "execution_count": 69,
   "metadata": {},
   "outputs": [],
   "source": [
    "x = np.concatenate((K, K)).reshape(-1, 1)\n",
    "y = np.array(voll.apply(lambda x: x.sort_values().values).iloc[[1,2], :]).reshape(1, -1)[0]"
   ]
  },
  {
   "cell_type": "code",
   "execution_count": 100,
   "metadata": {},
   "outputs": [],
   "source": [
    "svr = SVR(kernel='rbf', C=1e-1, gamma='auto', epsilon=1e-3, max_iter=1e5).fit(x, y)\n",
    "yfit = svr.predict(x)"
   ]
  },
  {
   "cell_type": "code",
   "execution_count": 101,
   "metadata": {},
   "outputs": [
    {
     "data": {
      "image/png": "[encoded data removed]",
      "text/plain": [
       "<Figure size 432x288 with 1 Axes>"
      ]
     },
     "metadata": {
      "needs_background": "light"
     },
     "output_type": "display_data"
    }
   ],
   "source": [
    "plt.scatter(x, y, s=5, color=\"blue\", label=\"original\")\n",
    "plt.plot(x[:13], (yfit[:13]+yfit[13:])/2, lw=2, color=\"red\", label=\"fitted\")\n",
    "plt.legend()\n",
    "plt.show()"
   ]
  },
  {
   "cell_type": "code",
   "execution_count": 169,
   "metadata": {},
   "outputs": [
    {
     "data": {
      "text/plain": [
       "<bound method BaseEstimator.set_params of SVR(C=1000.0, epsilon=0.0001, gamma='auto', max_iter=100000.0)>"
      ]
     },
     "execution_count": 169,
     "metadata": {},
     "output_type": "execute_result"
    }
   ],
   "source": [
    "svr.set_params"
   ]
  },
  {
   "cell_type": "code",
   "execution_count": null,
   "metadata": {},
   "outputs": [],
   "source": []
  },
  {
   "cell_type": "markdown",
   "metadata": {},
   "source": [
    "# 3"
   ]
  },
  {
   "cell_type": "code",
   "execution_count": 219,
   "metadata": {},
   "outputs": [],
   "source": [
    "x = K.reshape(-1, 1)\n",
    "y = np.array(vola)[0]"
   ]
  },
  {
   "cell_type": "code",
   "execution_count": 224,
   "metadata": {},
   "outputs": [],
   "source": [
    "choose = [0, 2, 4, 6, 8, 10, 12]\n",
    "xc = x[choose]\n",
    "yc = y[choose]"
   ]
  },
  {
   "cell_type": "code",
   "execution_count": 228,
   "metadata": {},
   "outputs": [],
   "source": [
    "svr = SVR(kernel='rbf', C=1e2, gamma='auto', epsilon=1e-4, max_iter=1e5).fit(xc, yc)\n",
    "yfit = svr.predict(xc)"
   ]
  },
  {
   "cell_type": "code",
   "execution_count": 229,
   "metadata": {},
   "outputs": [
    {
     "data": {
      "image/png": "[encoded data removed]",
      "text/plain": [
       "<Figure size 432x288 with 1 Axes>"
      ]
     },
     "metadata": {
      "needs_background": "light"
     },
     "output_type": "display_data"
    }
   ],
   "source": [
    "plt.scatter(x, y, s=5, color=\"blue\", label=\"original\")\n",
    "plt.plot(xc, yfit, lw=2, color=\"red\", label=\"fitted\")\n",
    "plt.legend()\n",
    "plt.show()"
   ]
  },
  {
   "cell_type": "code",
   "execution_count": 230,
   "metadata": {},
   "outputs": [
    {
     "data": {
      "text/plain": [
       "<matplotlib.legend.Legend at 0x20c22a48788>"
      ]
     },
     "execution_count": 230,
     "metadata": {},
     "output_type": "execute_result"
    },
    {
     "data": {
      "image/png": "[encoded data removed]",
      "text/plain": [
       "<Figure size 432x288 with 1 Axes>"
      ]
     },
     "metadata": {
      "needs_background": "light"
     },
     "output_type": "display_data"
    }
   ],
   "source": [
    "plt.figure()\n",
    "plt.scatter(K, call_b_v, marker='^', label='call bid')\n",
    "plt.scatter(K, call_a_v, marker='^', label='call ask')\n",
    "plt.scatter(K, put_b_v, marker='s', label='put bid')\n",
    "plt.scatter(K, put_a_v, marker='s', label='put ask')\n",
    "plt.plot(xc, yfit, lw=2, color=\"gray\", label=\"fitted\")\n",
    "plt.legend()"
   ]
  },
  {
   "cell_type": "code",
   "execution_count": null,
   "metadata": {},
   "outputs": [],
   "source": []
  },
  {
   "cell_type": "code",
   "execution_count": null,
   "metadata": {},
   "outputs": [],
   "source": []
  },
  {
   "cell_type": "code",
   "execution_count": null,
   "metadata": {},
   "outputs": [],
   "source": []
  },
  {
   "cell_type": "code",
   "execution_count": null,
   "metadata": {},
   "outputs": [],
   "source": []
  },
  {
   "cell_type": "code",
   "execution_count": null,
   "metadata": {},
   "outputs": [],
   "source": []
  },
  {
   "cell_type": "code",
   "execution_count": null,
   "metadata": {},
   "outputs": [],
   "source": []
  },
  {
   "cell_type": "code",
   "execution_count": null,
   "metadata": {},
   "outputs": [],
   "source": []
  },
  {
   "cell_type": "code",
   "execution_count": null,
   "metadata": {},
   "outputs": [],
   "source": []
  },
  {
   "cell_type": "code",
   "execution_count": null,
   "metadata": {},
   "outputs": [],
   "source": []
  },
  {
   "cell_type": "code",
   "execution_count": null,
   "metadata": {},
   "outputs": [],
   "source": []
  },
  {
   "cell_type": "code",
   "execution_count": null,
   "metadata": {},
   "outputs": [],
   "source": []
  },
  {
   "cell_type": "code",
   "execution_count": null,
   "metadata": {
    "scrolled": true
   },
   "outputs": [],
   "source": [
    "import numpy as np\n",
    "import pandas as pd\n",
    "from keras.models import Sequential\n",
    "from keras.layers import Dense"
   ]
  },
  {
   "cell_type": "code",
   "execution_count": null,
   "metadata": {},
   "outputs": [],
   "source": [
    "N = 1000    \n",
    "def makeData(x):    \n",
    "    r = [a/10 for a in x]\n",
    "    y = np.sin(x)+np.random.uniform(-.5, .2, len(x))\n",
    "    return np.array(y+r)\n",
    "\n",
    "x = [i/100 for i in range(N)]\n",
    "y = makeData(x)\n",
    "x = np.array(x).reshape(-1,1)\n",
    "\n",
    "plt.scatter(x, y, s=5, color=\"blue\")\n",
    "plt.show()"
   ]
  },
  {
   "cell_type": "code",
   "execution_count": null,
   "metadata": {},
   "outputs": [],
   "source": [
    "x"
   ]
  },
  {
   "cell_type": "code",
   "execution_count": null,
   "metadata": {},
   "outputs": [],
   "source": [
    "y"
   ]
  },
  {
   "cell_type": "code",
   "execution_count": null,
   "metadata": {},
   "outputs": [],
   "source": [
    "svr = SVR().fit(x, y)"
   ]
  },
  {
   "cell_type": "code",
   "execution_count": null,
   "metadata": {},
   "outputs": [],
   "source": [
    "yfit = svr.predict(x)\n"
   ]
  },
  {
   "cell_type": "code",
   "execution_count": null,
   "metadata": {},
   "outputs": [],
   "source": [
    "yfit"
   ]
  },
  {
   "cell_type": "code",
   "execution_count": null,
   "metadata": {},
   "outputs": [],
   "source": [
    "plt.scatter(x, y, s=5, color=\"blue\", label=\"original\")\n",
    "plt.plot(x, yfit, lw=2, color=\"red\", label=\"fitted\")\n",
    "plt.legend()\n",
    "plt.show()"
   ]
  },
  {
   "cell_type": "code",
   "execution_count": null,
   "metadata": {},
   "outputs": [],
   "source": [
    "score = svr.score(x,y)\n",
    "print(\"R-squered:\", score)\n",
    "print(\"MSE:\", mean_squared_error(y, yfit))"
   ]
  },
  {
   "cell_type": "code",
   "execution_count": null,
   "metadata": {},
   "outputs": [],
   "source": []
  }
 ],
 "metadata": {
  "kernelspec": {
   "display_name": "Python 3",
   "language": "python",
   "name": "python3"
  }
 },
 "nbformat": 4,
 "nbformat_minor": 4
}
