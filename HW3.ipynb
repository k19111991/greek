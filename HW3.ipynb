{
 "cells": [
  {
   "cell_type": "markdown",
   "metadata": {},
   "source": [
    "# Homework 3"
   ]
  },
  {
   "cell_type": "markdown",
   "metadata": {},
   "source": [
    "## Basic"
   ]
  },
  {
   "cell_type": "code",
   "execution_count": 27,
   "metadata": {},
   "outputs": [],
   "source": [
    "import numpy as np"
   ]
  },
  {
   "cell_type": "code",
   "execution_count": 28,
   "metadata": {},
   "outputs": [],
   "source": [
    "def cholesky(A):\n",
    "    n = len(A)\n",
    "\n",
    "    # Create zero matrix for L\n",
    "    L = [[0.0] * n for i in range(n)]\n",
    "\n",
    "    # Perform the Cholesky decomposition\n",
    "    for i in range(n):\n",
    "        for k in range(i+1):\n",
    "            tmp_sum = sum(L[i][j] * L[k][j] for j in range(k))\n",
    "            \n",
    "            if (i == k): # Diagonal elements\n",
    "                # LaTeX: l_{kk} = \\sqrt{ a_{kk} - \\sum^{k-1}_{j=1} l^2_{kj}}\n",
    "                L[i][k] = np.sqrt(A[i][i] - tmp_sum)\n",
    "            else:\n",
    "                # LaTeX: l_{ik} = \\frac{1}{l_{kk}} \\left( a_{ik} - \\sum^{k-1}_{j=1} l_{ij} l_{kj} \\right)\n",
    "                L[i][k] = (1.0 / L[k][k] * (A[i][k] - tmp_sum))\n",
    "    return L"
   ]
  },
  {
   "cell_type": "code",
   "execution_count": 40,
   "metadata": {},
   "outputs": [],
   "source": [
    "def value_hw3(K, r, T, num, repeat, n, S : list, q: list, sigma: list, rho: list):\n",
    "    sigma = np.reshape(sigma, (len(sigma), 1))\n",
    "    cov_mat = sigma * sigma.T * np.array(rho)\n",
    "    A = np.array(cholesky(cov_mat)).T\n",
    "    V_n = []\n",
    "    for j in range(repeat):\n",
    "        V_list = []\n",
    "        for i in range(num):\n",
    "            z_T = np.matmul(np.random.randn(1, n) ,A) * np.sqrt(T)\n",
    "            S_list = np.exp(np.log(S) + (r - np.array(q) - 0.5 * np.array(sigma) ** 2) * T + z_T)\n",
    "            V_list.append((np.amax(S_list) - K) * (1 if np.amax(S_list) > K else 0))\n",
    "        V_n.append(np.exp(-r * T) * np.sum(V_list) / num)\n",
    "    V_n = np.array(V_n)\n",
    "    return V_n.mean(), V_n.std(), [V_n.mean() - 2 * V_n.std(), V_n.mean() + 2 * V_n.std()]"
   ]
  },
  {
   "cell_type": "code",
   "execution_count": 39,
   "metadata": {},
   "outputs": [
    {
     "data": {
      "text/plain": [
       "(11.914928386489136,\n",
       " 0.20369020877090435,\n",
       " [11.507547968947327, 12.322308804030945])"
      ]
     },
     "execution_count": 39,
     "metadata": {},
     "output_type": "execute_result"
    }
   ],
   "source": [
    "value_hw3(100, 0.1, 0.5, 10000, 20, 2, [95]*2, [0.05]*2, [0.5]*2, [[1, 1], [1, 1]])"
   ]
  },
  {
   "cell_type": "code",
   "execution_count": 41,
   "metadata": {},
   "outputs": [
    {
     "data": {
      "text/plain": [
       "(23.885516660988863,\n",
       " 0.20817067720955085,\n",
       " [23.46917530656976, 24.301858015407966],\n",
       " array([[ 0.5, -0.5],\n",
       "        [ 0. ,  0. ]]))"
      ]
     },
     "execution_count": 41,
     "metadata": {},
     "output_type": "execute_result"
    }
   ],
   "source": [
    "value_hw3(100, 0.1, 0.5, 10000, 20, 2, [95]*2, [0.05]*2, [0.5]*2, [[1, -1], [-1, 1]])"
   ]
  },
  {
   "cell_type": "code",
   "execution_count": 42,
   "metadata": {},
   "outputs": [
    {
     "data": {
      "text/plain": [
       "(30.379798520299552,\n",
       " 0.3364210982102388,\n",
       " [29.706956323879073, 31.05264071672003],\n",
       " array([[0.5       , 0.25      , 0.25      , 0.25      , 0.25      ],\n",
       "        [0.        , 0.4330127 , 0.14433757, 0.14433757, 0.14433757],\n",
       "        [0.        , 0.        , 0.40824829, 0.10206207, 0.10206207],\n",
       "        [0.        , 0.        , 0.        , 0.39528471, 0.07905694],\n",
       "        [0.        , 0.        , 0.        , 0.        , 0.38729833]]))"
      ]
     },
     "execution_count": 42,
     "metadata": {},
     "output_type": "execute_result"
    }
   ],
   "source": [
    "value_hw3(100, 0.1, 0.5, 10000, 20, 5, [95]*5, [0.05]*5, [0.5]*5, np.ones([5, 5]) * 0.5 + np.eye(5) * 0.5)"
   ]
  },
  {
   "cell_type": "markdown",
   "metadata": {},
   "source": [
    "## Bonus 1"
   ]
  },
  {
   "cell_type": "code",
   "execution_count": 52,
   "metadata": {},
   "outputs": [],
   "source": [
    "def value_hw3_bonus(K, r, T, num, repeat, n, S : list, q: list, sigma: list, rho: list):\n",
    "    sigma = np.reshape(sigma, (len(sigma), 1))\n",
    "    cov_mat = sigma * sigma.T * np.array(rho)\n",
    "    A = np.array(cholesky(cov_mat)).T\n",
    "    V_n = []\n",
    "    for j in range(repeat):\n",
    "        V_list = []\n",
    "        rand_list = np.random.randn(int(num/2), n)\n",
    "        rand_list = np.append(rand_list, -rand_list)\n",
    "        rand_list = rand_list / rand_list.std()\n",
    "        for i in range(num):\n",
    "            z_T = np.matmul(rand_list[i * n : (i+1) * n], A) * np.sqrt(T)\n",
    "            S_list = np.exp(np.log(S) + (r - np.array(q) - 0.5 * np.array(sigma) ** 2) * T + z_T)\n",
    "            V_list.append((np.amax(S_list) - K) * (1 if np.amax(S_list) > K else 0))\n",
    "        V_n.append(np.exp(-r * T) * np.sum(V_list) / num)\n",
    "    V_n = np.array(V_n)\n",
    "    return V_n.mean(), V_n.std(), [V_n.mean() - 2 * V_n.std(), V_n.mean() + 2 * V_n.std()]"
   ]
  },
  {
   "cell_type": "code",
   "execution_count": 53,
   "metadata": {},
   "outputs": [
    {
     "data": {
      "text/plain": [
       "(30.388845693200647,\n",
       " 0.07841189179937748,\n",
       " [30.23202190960189, 30.545669476799404])"
      ]
     },
     "execution_count": 53,
     "metadata": {},
     "output_type": "execute_result"
    }
   ],
   "source": [
    "value_hw3_bonus(100, 0.1, 0.5, 10000, 20, 5, [95]*5, [0.05]*5, [0.5]*5, np.ones([5, 5]) * 0.5 + np.eye(5) * 0.5)"
   ]
  },
  {
   "cell_type": "markdown",
   "metadata": {},
   "source": [
    "## Bonus 2"
   ]
  },
  {
   "cell_type": "code",
   "execution_count": 50,
   "metadata": {},
   "outputs": [],
   "source": [
    "def value_hw3_bonus2(K, r, T, num, repeat, n, S : list, q: list, sigma: list, rho: list):\n",
    "    sigma = np.reshape(sigma, (len(sigma), 1))\n",
    "    cov_mat = sigma * sigma.T * np.array(rho)\n",
    "    A = np.array(cholesky(cov_mat)).T\n",
    "    V_n = []\n",
    "    for j in range(repeat):\n",
    "        V_list = []\n",
    "        rand_list = np.random.randn(num, n)\n",
    "        rand_ = rand_list - (np.sum(rand_list, axis=0) / num)\n",
    "        rand_cov = np.cov(rand_.T)\n",
    "        A_ = np.array(cholesky(rand_cov)).T\n",
    "        A_inv = np.linalg.inv(A_)\n",
    "        rand__ = np.matmul(A_inv, rand_.T)\n",
    "        for i in range(num):\n",
    "            z_T = np.matmul(rand__[:, i], A) * np.sqrt(T)\n",
    "            S_list = np.exp(np.log(S) + (r - q[0] - 0.5 * (sigma[0] ** 2)) * T + z_T)\n",
    "            V_list.append(np.amax((S_list - K) * (S_list > K)))\n",
    "#             print(z_T, S_list)\n",
    "        V_n.append(np.exp(-r * T) * np.sum(V_list) / num)\n",
    "    V_n = np.array(V_n)\n",
    "    return V_n.mean(), V_n.std(), [V_n.mean() - 2 * V_n.std(), V_n.mean() + 2 * V_n.std()], V_n"
   ]
  },
  {
   "cell_type": "code",
   "execution_count": 54,
   "metadata": {},
   "outputs": [
    {
     "data": {
      "text/plain": [
       "(30.363123366215955,\n",
       " 0.1430324697844082,\n",
       " [30.077058426647138, 30.649188305784772],\n",
       " array([30.33557913, 30.20028155, 30.50242202, 30.53813042, 30.37810417,\n",
       "        30.35793285, 30.49069028, 30.43878968, 30.05578854, 30.27975432,\n",
       "        30.71097694, 30.22967765, 30.41186784, 30.38661238, 30.17380096,\n",
       "        30.45206789, 30.2942672 , 30.41236498, 30.23895429, 30.37440423]))"
      ]
     },
     "execution_count": 54,
     "metadata": {},
     "output_type": "execute_result"
    }
   ],
   "source": [
    "value_hw3_bonus2(100, 0.1, 0.5, 10000, 20, 5, [95]*5, [0.05]*5, [0.5]*5, np.ones([5, 5]) * 0.5 + np.eye(5) * 0.5)"
   ]
  },
  {
   "cell_type": "code",
   "execution_count": null,
   "metadata": {},
   "outputs": [],
   "source": []
  },
  {
   "cell_type": "code",
   "execution_count": null,
   "metadata": {},
   "outputs": [],
   "source": []
  }
 ],
 "metadata": {
  "kernelspec": {
   "display_name": "Python 3",
   "language": "python",
   "name": "python3"
  },
  "language_info": {
   "codemirror_mode": {
    "name": "ipython",
    "version": 3
   },
   "file_extension": ".py",
   "mimetype": "text/x-python",
   "name": "python",
   "nbconvert_exporter": "python",
   "pygments_lexer": "ipython3",
   "version": "3.5.2"
  }
 },
 "nbformat": 4,
 "nbformat_minor": 2
}
