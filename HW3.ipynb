{
 "cells": [
  {
   "cell_type": "markdown",
   "metadata": {},
   "source": [
    "# Homework 3"
   ]
  },
  {
   "cell_type": "markdown",
   "metadata": {},
   "source": [
    "## Basic"
   ]
  },
  {
   "cell_type": "code",
   "execution_count": 270,
   "metadata": {},
   "outputs": [],
   "source": [
    "import numpy as np"
   ]
  },
  {
   "cell_type": "code",
   "execution_count": 293,
   "metadata": {},
   "outputs": [],
   "source": [
    "def cholesky(A):\n",
    "    n = len(A)\n",
    "\n",
    "    # Create zero matrix for L\n",
    "    L = [[0.0] * n for i in range(n)]\n",
    "\n",
    "    # Perform the Cholesky decomposition\n",
    "    for i in range(n):\n",
    "        for k in range(i+1):\n",
    "            tmp_sum = sum(L[i][j] * L[k][j] for j in range(k))\n",
    "            \n",
    "            if (i == k): # Diagonal elements\n",
    "                # LaTeX: l_{kk} = \\sqrt{ a_{kk} - \\sum^{k-1}_{j=1} l^2_{kj}}\n",
    "                L[i][k] = np.sqrt(A[i][i] - tmp_sum)\n",
    "            else:\n",
    "                # LaTeX: l_{ik} = \\frac{1}{l_{kk}} \\left( a_{ik} - \\sum^{k-1}_{j=1} l_{ij} l_{kj} \\right)\n",
    "                L[i][k] = (1.0 / L[k][k] * (A[i][k] - tmp_sum))\n",
    "    return L"
   ]
  },
  {
   "cell_type": "code",
   "execution_count": 271,
   "metadata": {},
   "outputs": [],
   "source": [
    "def value_hw3(K, r, T, num, repeat, n, S : list, q: list, sigma: list, rho: list):\n",
    "    if n == 2:\n",
    "        A = np.array([[sigma[0], sigma[1] * rho[0][1]], [0, sigma[1] * np.sqrt(1 - rho[0][1] ** 2)]])\n",
    "    else:\n",
    "        sigma = np.reshape(sigma, (len(sigma), 1))\n",
    "        cov_mat = sigma * sigma.T * np.array(rho)\n",
    "        A = np.linalg.cholesky(cov_mat).T\n",
    "    V_n = []\n",
    "    for j in range(repeat):\n",
    "        V_list = []\n",
    "        for i in range(num):\n",
    "            z_T = np.matmul(np.random.randn(1, n) ,A) * np.sqrt(T)\n",
    "            S_list = np.exp(np.log(S) + (r - np.array(q) - 0.5 * np.array(sigma) ** 2) * T + z_T)\n",
    "            V_list.append((np.amax(S_list) - K) * (1 if np.amax(S_list) > K else 0))\n",
    "        V_n.append(np.exp(-r * T) * np.sum(V_list) / num)\n",
    "    V_n = np.array(V_n)\n",
    "    return V_n.mean(), V_n.std(), [V_n.mean() - 2 * V_n.std(), V_n.mean() + 2 * V_n.std()]"
   ]
  },
  {
   "cell_type": "code",
   "execution_count": 455,
   "metadata": {},
   "outputs": [
    {
     "data": {
      "text/plain": [
       "(11.979472840414452,\n",
       " 0.18063107279594837,\n",
       " [11.618210694822555, 12.34073498600635])"
      ]
     },
     "execution_count": 455,
     "metadata": {},
     "output_type": "execute_result"
    }
   ],
   "source": [
    "value_hw3(100, 0.1, 0.5, 10000, 20, 2, [95]*2, [0.05]*2, [0.5]*2, [[1, 1], [1, 1]])"
   ]
  },
  {
   "cell_type": "code",
   "execution_count": 456,
   "metadata": {},
   "outputs": [
    {
     "data": {
      "text/plain": [
       "(23.88460047313434,\n",
       " 0.23208144260205285,\n",
       " [23.420437587930234, 24.34876335833845])"
      ]
     },
     "execution_count": 456,
     "metadata": {},
     "output_type": "execute_result"
    }
   ],
   "source": [
    "value_hw3(100, 0.1, 0.5, 10000, 20, 2, [95]*2, [0.05]*2, [0.5]*2, [[1, -1], [-1, 1]])"
   ]
  },
  {
   "cell_type": "code",
   "execution_count": 457,
   "metadata": {},
   "outputs": [
    {
     "data": {
      "text/plain": [
       "(30.4779925069505,\n",
       " 0.3331820397781881,\n",
       " [29.811628427394123, 31.144356586506877])"
      ]
     },
     "execution_count": 457,
     "metadata": {},
     "output_type": "execute_result"
    }
   ],
   "source": [
    "value_hw3(100, 0.1, 0.5, 10000, 20, 5, [95]*5, [0.05]*5, [0.5]*5, np.ones([5, 5]) * 0.5 + np.eye(5) * 0.5)"
   ]
  },
  {
   "cell_type": "markdown",
   "metadata": {},
   "source": [
    "## Bonus 1"
   ]
  },
  {
   "cell_type": "code",
   "execution_count": 332,
   "metadata": {},
   "outputs": [],
   "source": [
    "def value_hw3_bonus(K, r, T, num, repeat, n, S : list, q: list, sigma: list, rho: list):\n",
    "    if n == 2:\n",
    "        A = np.array([[sigma[0], sigma[1] * rho[0][1]], [0, sigma[1] * np.sqrt(1 - rho[0][1] ** 2)]])\n",
    "    else:\n",
    "        sigma = np.reshape(sigma, (len(sigma), 1))\n",
    "        cov_mat = sigma * sigma.T * np.array(rho)\n",
    "        A = np.linalg.cholesky(cov_mat).T\n",
    "    V_n = []\n",
    "    for j in range(repeat):\n",
    "        V_list = []\n",
    "        rand_list = np.random.randn(int(num/2), n)\n",
    "        rand_list = np.append(rand_list, -rand_list)\n",
    "        rand_list = rand_list / rand_list.std()\n",
    "        for i in range(num):\n",
    "            z_T = np.matmul(rand_list[i * n : (i+1) * n], A) * np.sqrt(T)\n",
    "            S_list = np.exp(np.log(S) + (r - np.array(q) - 0.5 * np.array(sigma) ** 2) * T + z_T)\n",
    "            V_list.append(payoff(S_list, K))\n",
    "        V_n.append(np.exp(-r * T) * np.sum(V_list) / num)\n",
    "    V_n = np.array(V_n)\n",
    "    return V_n.mean(), V_n.std(), [V_n.mean() - 2 * V_n.std(), V_n.mean() + 2 * V_n.std()]"
   ]
  },
  {
   "cell_type": "code",
   "execution_count": 458,
   "metadata": {},
   "outputs": [
    {
     "data": {
      "text/plain": [
       "(30.402896265234755,\n",
       " 0.10722120988560428,\n",
       " [30.188453845463545, 30.617338685005965])"
      ]
     },
     "execution_count": 458,
     "metadata": {},
     "output_type": "execute_result"
    }
   ],
   "source": [
    "value_hw3_bonus(100, 0.1, 0.5, 10000, 20, 5, [95]*5, [0.05]*5, [0.5]*5, np.ones([5, 5]) * 0.5 + np.eye(5) * 0.5)"
   ]
  },
  {
   "cell_type": "markdown",
   "metadata": {},
   "source": [
    "## Bonus 2"
   ]
  },
  {
   "cell_type": "code",
   "execution_count": 512,
   "metadata": {},
   "outputs": [],
   "source": [
    "def value_hw3_bonus2(K, r, T, num, repeat, n, S : list, q: list, sigma: list, rho: list):\n",
    "    if n == 2:\n",
    "        A = np.array([[sigma[0], sigma[1] * rho[0][1]], [0, sigma[1] * np.sqrt(1 - rho[0][1] ** 2)]])\n",
    "    else:\n",
    "        sigma = np.reshape(sigma, (len(sigma), 1))\n",
    "        cov_mat = sigma * sigma.T * np.array(rho)\n",
    "        A_ = np.linalg.cholesky(cov_mat).T\n",
    "    V_n = []\n",
    "    for j in range(repeat):\n",
    "        V_list = []\n",
    "        rand_list = np.random.randn(num, n)\n",
    "        rand_ = rand_list - (np.sum(rand_list, axis=0) / num)\n",
    "        rand_cov = np.cov(rand_.T)\n",
    "        A = np.array(cholesky(rand_cov)).T\n",
    "        A_inv = np.linalg.inv(A)\n",
    "        rand__ = np.matmul(A_inv, rand_.T)\n",
    "        for i in range(num):\n",
    "            z_T = np.matmul(rand__[:, i], A_) * np.sqrt(T)\n",
    "            S_list = np.exp(np.log(S) + (r - q[0] - 0.5 * (sigma[0] ** 2)) * T + z_T)\n",
    "            V_list.append(payoff(S_list, K))\n",
    "#             print(z_T, S_list)\n",
    "        V_n.append(np.exp(-r * T) * np.sum(V_list) / num)\n",
    "    V_n = np.array(V_n)\n",
    "    return V_n.mean(), V_n.std(), [V_n.mean() - 2 * V_n.std(), V_n.mean() + 2 * V_n.std()], V_n"
   ]
  },
  {
   "cell_type": "code",
   "execution_count": 515,
   "metadata": {},
   "outputs": [
    {
     "data": {
      "text/plain": [
       "(30.387713134402752,\n",
       " 0.1217987678389269,\n",
       " [30.1441155987249, 30.631310670080605],\n",
       " array([30.27939832, 30.30619213, 30.53925249, 30.40875576, 30.3509485 ,\n",
       "        30.58899158, 30.32264754, 30.37520656, 30.26324764, 30.29746406,\n",
       "        30.27958896, 30.276415  , 30.66564758, 30.24521829, 30.48911105,\n",
       "        30.25423222, 30.55329229, 30.3781506 , 30.47390666, 30.40659548]))"
      ]
     },
     "execution_count": 515,
     "metadata": {},
     "output_type": "execute_result"
    }
   ],
   "source": [
    "value_hw3_bonus2(100, 0.1, 0.5, 10000, 20, 5, [95]*5, [0.05]*5, [0.5]*5, np.ones([5, 5]) * 0.5 + np.eye(5) * 0.5)"
   ]
  },
  {
   "cell_type": "code",
   "execution_count": null,
   "metadata": {},
   "outputs": [],
   "source": []
  },
  {
   "cell_type": "code",
   "execution_count": null,
   "metadata": {},
   "outputs": [],
   "source": []
  },
  {
   "cell_type": "code",
   "execution_count": null,
   "metadata": {},
   "outputs": [],
   "source": []
  },
  {
   "cell_type": "code",
   "execution_count": null,
   "metadata": {},
   "outputs": [],
   "source": []
  },
  {
   "cell_type": "code",
   "execution_count": null,
   "metadata": {},
   "outputs": [],
   "source": []
  },
  {
   "cell_type": "code",
   "execution_count": null,
   "metadata": {},
   "outputs": [],
   "source": []
  }
 ],
 "metadata": {
  "kernelspec": {
   "display_name": "Python 3",
   "language": "python",
   "name": "python3"
  },
  "language_info": {
   "codemirror_mode": {
    "name": "ipython",
    "version": 3
   },
   "file_extension": ".py",
   "mimetype": "text/x-python",
   "name": "python",
   "nbconvert_exporter": "python",
   "pygments_lexer": "ipython3",
   "version": "3.5.2"
  }
 },
 "nbformat": 4,
 "nbformat_minor": 2
}
