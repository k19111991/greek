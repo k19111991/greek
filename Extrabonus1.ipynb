{
 "cells": [
  {
   "cell_type": "markdown",
   "metadata": {},
   "source": [
    "# Extra Bonus1"
   ]
  },
  {
   "cell_type": "code",
   "execution_count": 3,
   "metadata": {},
   "outputs": [],
   "source": [
    "import numpy as np\n",
    "from scipy.stats import norm"
   ]
  },
  {
   "cell_type": "code",
   "execution_count": 21,
   "metadata": {},
   "outputs": [],
   "source": [
    "n = norm.pdf\n",
    "N = norm.cdf\n",
    "\n",
    "def bs(cp_flag, S, K, r, q, T, sigma):\n",
    "    d1 = (np.log(S / K) + (r - q + (sigma ** 2) * 0.5) * T) / (sigma * np.sqrt(T))\n",
    "    d2 = d1 - sigma * np.sqrt(T)\n",
    "    if cp_flag == 'c':\n",
    "        price = S * np.exp(-q * T) * N(d1) - K * np.exp(-r * T) * N(d2)\n",
    "    else:\n",
    "        price = K * np.exp(-r * T) * N(-d2) - S * np.exp(-q * T) * N(-d1)\n",
    "    return price\n",
    "\n",
    "def bs_diff(cp_flag, S, K, r, q, T, sigma):\n",
    "    d1 = (np.log(S / K) + (r - q + (sigma ** 2) * 0.5) * T) / (sigma * np.sqrt(T))\n",
    "    return S * np.sqrt(T) * n(d1)\n",
    "\n",
    "def find_vol(target_value, call_put, S, K, T, r, q):\n",
    "    MAX_ITERATIONS = 1000\n",
    "    PRECISION = 1.0e-5\n",
    "\n",
    "    sigma = 0.5\n",
    "    for i in range(0, MAX_ITERATIONS):\n",
    "        price = bs(call_put, S, K, r, q, T, sigma)\n",
    "        bs_dif = bs_diff(call_put, S, K, r, q, T, sigma)\n",
    "\n",
    "        price = price\n",
    "        diff = target_value - price  # our root\n",
    "\n",
    "        print (i, sigma, diff)\n",
    "\n",
    "        if (abs(diff) < PRECISION):\n",
    "            return sigma\n",
    "        sigma = sigma + diff/bs_dif # f(x) / f'(x)\n",
    "\n",
    "    # value wasn't found, return best guess so far\n",
    "    return sigma"
   ]
  },
  {
   "cell_type": "code",
   "execution_count": 22,
   "metadata": {},
   "outputs": [
    {
     "data": {
      "text/plain": [
       "4.729113481420086"
      ]
     },
     "execution_count": 22,
     "metadata": {},
     "output_type": "execute_result"
    }
   ],
   "source": [
    "bs(\"c\", 50, 60, 0.1, 0.05, 0.25, 0.8)"
   ]
  },
  {
   "cell_type": "code",
   "execution_count": 29,
   "metadata": {},
   "outputs": [
    {
     "name": "stdout",
     "output_type": "stream",
     "text": [
      "0 0.5 -3.197491788061786\n",
      "1 0.2732993863210121 -0.06655350340721355\n",
      "2 0.2684700662144135 -0.0010428799986108572\n",
      "3 0.26839427024676993 -1.5539795203523e-05\n",
      "4 0.26839314079333515 -2.3136037086146644e-07\n"
     ]
    },
    {
     "data": {
      "text/plain": [
       "0.26839314079333515"
      ]
     },
     "execution_count": 29,
     "metadata": {},
     "output_type": "execute_result"
    }
   ],
   "source": [
    "a = find_vol(2.5, 'c', 50, 55, 0.5, 0.1, 0.03)\n",
    "a"
   ]
  },
  {
   "cell_type": "code",
   "execution_count": null,
   "metadata": {},
   "outputs": [],
   "source": []
  }
 ],
 "metadata": {
  "kernelspec": {
   "display_name": "Python 3",
   "language": "python",
   "name": "python3"
  },
  "language_info": {
   "codemirror_mode": {
    "name": "ipython",
    "version": 3
   },
   "file_extension": ".py",
   "mimetype": "text/x-python",
   "name": "python",
   "nbconvert_exporter": "python",
   "pygments_lexer": "ipython3",
   "version": "3.5.2"
  }
 },
 "nbformat": 4,
 "nbformat_minor": 2
}
