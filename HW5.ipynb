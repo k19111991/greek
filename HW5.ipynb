{
 "cells": [
  {
   "cell_type": "markdown",
   "metadata": {},
   "source": [
    "# Basic"
   ]
  },
  {
   "cell_type": "code",
   "execution_count": 391,
   "metadata": {},
   "outputs": [],
   "source": [
    "import numpy as np\n",
    "from numpy import inf"
   ]
  },
  {
   "cell_type": "code",
   "execution_count": 458,
   "metadata": {},
   "outputs": [],
   "source": [
    "def value_bin(S, K, r, q, sigma, T, M, n, Save, pass_t, contract, space=\"Linear\", method=\"S\"):\n",
    "    dt = T / n\n",
    "    u = np.exp(sigma * (dt ** 0.5))\n",
    "    d = np.exp(-sigma * (dt ** 0.5))\n",
    "    prob = (np.exp((r - q) * dt) - d) / (u - d)\n",
    "    tree = []\n",
    "    for i in range(n+1):\n",
    "        p_t = []\n",
    "        for j in range(i+1):\n",
    "            A_list = A(i, j, S, u, d, M, Save, pass_t, dt, space)\n",
    "            V_list = np.maximum(A_list - K, 0)\n",
    "            p_t.append([S * (u ** (i-j)) * (d ** j), \n",
    "                        A_list,\n",
    "                        V_list\n",
    "                       ])\n",
    "        tree.append(p_t)\n",
    "    value = back_induction(tree, S, prob, u, d, r, dt, contract, method)\n",
    "    return value"
   ]
  },
  {
   "cell_type": "code",
   "execution_count": 459,
   "metadata": {},
   "outputs": [],
   "source": [
    "def back_induction(p, S, prob, u, d, r, dt, contract, method):\n",
    "    for i in range(len(p) - 1):\n",
    "        l = p[len(p) - i - 2] # layer\n",
    "        l_next = p[len(p) - i - 1]\n",
    "        for j in range(len(l)):\n",
    "            l_u = l_next[j][1]\n",
    "            l_d = l_next[j+1][1]\n",
    "            Au = ((len(p) - 2 - i + 1) * l[j][1] + S * (u ** (len(p) - 2 - i - j + 1)) * (d ** (j))) / (len(p) - 2 - i + 2)\n",
    "            Ad = ((len(p) - 2 - i + 1) * l[j][1] + S * (u ** (len(p) - 2 - i - j)) * (d ** (j + 1))) / (len(p) - 2 - i + 2)\n",
    "            u_i, u_i1, d_i, d_i1, u_w, d_w = find_index(Au, Ad, l_u, l_d, method)\n",
    "            Cu = u_w * l_next[j][-1][u_i] + (1 - u_w) * l_next[j][-1][u_i1]\n",
    "            Cd = d_w * l_next[j+1][-1][d_i] + (1 - d_w) * l_next[j+1][-1][d_i1]\n",
    "            if contract == \"E\":\n",
    "                l[j].append((prob * Cu + (1 - prob) * Cd) * np.exp(-r * dt)) \n",
    "            else:\n",
    "                l[j].append(np.maximum(l[j][2], prob * Cu + (1 - prob) * Cd) * np.exp(-r * dt))\n",
    "        p[len(p) - i - 2] = l\n",
    "    return p"
   ]
  },
  {
   "cell_type": "code",
   "execution_count": 460,
   "metadata": {},
   "outputs": [],
   "source": [
    "def A(i, j, S, u, d, M, Save, pass_t, dt, space=\"Linear\"):\n",
    "    Amax = (((1 - u ** (i - j + 1)) / (1 - u)) + (u ** (i - j)) * d * ((1 - d ** j) / (1 - d))) * S / (i + 1)\n",
    "    Amin = (((1 - d ** (j + 1)) / (1 - d)) + (d ** j) * u * ((1 - u ** (i - j)) / (1 - u))) * S / (i + 1)\n",
    "    if pass_t != 0:\n",
    "        Amax = (dt * i * Amax + pass_t * Save) / (pass_t + dt * i)\n",
    "        Amin = (dt * i * Amin + pass_t * Save) / (pass_t + dt * i)\n",
    "        if space == \"Linear\":\n",
    "            return np.linspace(Amax, Amin, M+1) # linear\n",
    "        else:\n",
    "            return np.exp(np.linspace(np.log(Amin), np.log(Amax), M+1)) # log   \n",
    "    else:\n",
    "        if space == \"Linear\":\n",
    "            return np.linspace(Amax, Amin, M+1) # linear\n",
    "        else:\n",
    "            return np.exp(np.linspace(np.log(Amin), np.log(Amax), M+1)) # log   "
   ]
  },
  {
   "cell_type": "code",
   "execution_count": 461,
   "metadata": {},
   "outputs": [],
   "source": [
    "def find_index(Au, Ad, A_u, A_d, method=\"S\"):\n",
    "    u_i = []\n",
    "    u_i1 = []\n",
    "    d_i = []\n",
    "    d_i1 = []\n",
    "    u_w = []\n",
    "    d_w = []\n",
    "    if method == \"S\":\n",
    "        for i in range(len(Au)):\n",
    "            u1 = 0\n",
    "            u = len(A_u) - 1\n",
    "            while (Au[i] < A_u[u1]) and u1 < len(Au)-1:\n",
    "                u1 = u1 + 1\n",
    "            u_i1.append(u1)\n",
    "            while (Au[i] > A_u[u]) and u > 0:\n",
    "                u = u - 1\n",
    "            u_i.append(u)\n",
    "        for j in range(len(Au)):\n",
    "            d1 = 0\n",
    "            d = len(A_d) - 1\n",
    "            while (Ad[j] < A_d[d1]) and d1 < len(Ad)-1:\n",
    "                d1 = d1 + 1\n",
    "            d_i1.append(d1)\n",
    "            while (Ad[j] > A_d[d]) and d > 0:\n",
    "                d = d - 1\n",
    "            d_i.append(d)\n",
    "        u_w = (A_u[u_i] != A_u[u_i1]) * (Au - A_u[u_i1]) / (A_u[u_i] - A_u[u_i1])\n",
    "        d_w = (A_d[d_i] != A_d[d_i1]) * (Ad - A_d[d_i1]) / (A_d[d_i] - A_d[d_i1])\n",
    "        u_w[np.abs(u_w) > 1] = 1\n",
    "        d_w[np.abs(d_w) > 1] = 1     \n",
    "        u_w = np.nan_to_num(u_w)\n",
    "        d_w = np.nan_to_num(d_w)\n",
    "    elif method == \"B\":\n",
    "        for i in range(len(Au)):\n",
    "            u_i.append(binary_search(Au[i], A_u)[0])\n",
    "            u_i1.append(binary_search(Au[i], A_u)[1])\n",
    "        for j in range(len(Ad)):\n",
    "            d_i.append(binary_search(Ad[i], A_d)[0])\n",
    "            d_i1.append(binary_search(Ad[i], A_d)[1])\n",
    "        u_w = (A_u[u_i] != A_u[u_i1]) * (Au - A_u[u_i1]) / (A_u[u_i] - A_u[u_i1])\n",
    "        d_w = (A_d[d_i] != A_d[d_i1]) * (Ad - A_d[d_i1]) / (A_d[d_i] - A_d[d_i1])\n",
    "        u_w[np.abs(u_w) > 1] = 1\n",
    "        d_w[np.abs(d_w) > 1] = 1     \n",
    "        u_w = np.nan_to_num(u_w)\n",
    "        d_w = np.nan_to_num(d_w)\n",
    "    return u_i, u_i1, d_i, d_i1, u_w, d_w           "
   ]
  },
  {
   "cell_type": "code",
   "execution_count": 464,
   "metadata": {},
   "outputs": [
    {
     "name": "stderr",
     "output_type": "stream",
     "text": [
      "/usr/local/lib/python3.5/dist-packages/ipykernel_launcher.py:27: RuntimeWarning: invalid value encountered in true_divide\n",
      "/usr/local/lib/python3.5/dist-packages/ipykernel_launcher.py:28: RuntimeWarning: invalid value encountered in true_divide\n",
      "/usr/local/lib/python3.5/dist-packages/ipykernel_launcher.py:29: RuntimeWarning: invalid value encountered in greater\n",
      "/usr/local/lib/python3.5/dist-packages/ipykernel_launcher.py:30: RuntimeWarning: invalid value encountered in greater\n"
     ]
    },
    {
     "data": {
      "text/plain": [
       "4.735385345731978"
      ]
     },
     "execution_count": 464,
     "metadata": {},
     "output_type": "execute_result"
    }
   ],
   "source": [
    "value_bin(50, 50, 0.1, 0.05, 0.8, 0.25, 100, 100, 50, 0, \"E\")[0][0][3][0]"
   ]
  },
  {
   "cell_type": "code",
   "execution_count": 465,
   "metadata": {},
   "outputs": [
    {
     "name": "stderr",
     "output_type": "stream",
     "text": [
      "/usr/local/lib/python3.5/dist-packages/ipykernel_launcher.py:27: RuntimeWarning: invalid value encountered in true_divide\n",
      "/usr/local/lib/python3.5/dist-packages/ipykernel_launcher.py:28: RuntimeWarning: invalid value encountered in true_divide\n",
      "/usr/local/lib/python3.5/dist-packages/ipykernel_launcher.py:29: RuntimeWarning: invalid value encountered in greater\n",
      "/usr/local/lib/python3.5/dist-packages/ipykernel_launcher.py:30: RuntimeWarning: invalid value encountered in greater\n"
     ]
    },
    {
     "data": {
      "text/plain": [
       "5.413837293578237"
      ]
     },
     "execution_count": 465,
     "metadata": {},
     "output_type": "execute_result"
    }
   ],
   "source": [
    "value_bin(50, 50, 0.1, 0.05, 0.8, 0.25, 100, 100, 50, 0, \"A\")[0][0][3][0]"
   ]
  },
  {
   "cell_type": "code",
   "execution_count": 466,
   "metadata": {},
   "outputs": [
    {
     "name": "stderr",
     "output_type": "stream",
     "text": [
      "/usr/local/lib/python3.5/dist-packages/ipykernel_launcher.py:27: RuntimeWarning: invalid value encountered in true_divide\n",
      "/usr/local/lib/python3.5/dist-packages/ipykernel_launcher.py:28: RuntimeWarning: invalid value encountered in true_divide\n",
      "/usr/local/lib/python3.5/dist-packages/ipykernel_launcher.py:29: RuntimeWarning: invalid value encountered in greater\n",
      "/usr/local/lib/python3.5/dist-packages/ipykernel_launcher.py:30: RuntimeWarning: invalid value encountered in greater\n"
     ]
    },
    {
     "data": {
      "text/plain": [
       "4.444215103696563"
      ]
     },
     "execution_count": 466,
     "metadata": {},
     "output_type": "execute_result"
    }
   ],
   "source": [
    "value_bin(50, 50, 0.1, 0.05, 0.8, 0.25, 100, 100, 50, 0.25, \"E\")[0][0][3][0]"
   ]
  },
  {
   "cell_type": "code",
   "execution_count": 467,
   "metadata": {},
   "outputs": [
    {
     "name": "stderr",
     "output_type": "stream",
     "text": [
      "/usr/local/lib/python3.5/dist-packages/ipykernel_launcher.py:27: RuntimeWarning: invalid value encountered in true_divide\n",
      "/usr/local/lib/python3.5/dist-packages/ipykernel_launcher.py:28: RuntimeWarning: invalid value encountered in true_divide\n",
      "/usr/local/lib/python3.5/dist-packages/ipykernel_launcher.py:29: RuntimeWarning: invalid value encountered in greater\n",
      "/usr/local/lib/python3.5/dist-packages/ipykernel_launcher.py:30: RuntimeWarning: invalid value encountered in greater\n"
     ]
    },
    {
     "data": {
      "text/plain": [
       "4.901273830597896"
      ]
     },
     "execution_count": 467,
     "metadata": {},
     "output_type": "execute_result"
    }
   ],
   "source": [
    "value_bin(50, 50, 0.1, 0.05, 0.8, 0.25, 100, 100, 50, 0.25, \"A\")[0][0][3][0]"
   ]
  },
  {
   "cell_type": "code",
   "execution_count": 468,
   "metadata": {},
   "outputs": [],
   "source": [
    "def value_mc(S, K, r, q, sigma, T, M, n, Save, pass_t, num, repeat):\n",
    "    dt = T / n\n",
    "    v_list = []\n",
    "    S_ = np.zeros([repeat, num])\n",
    "    for j in range(n - 1):\n",
    "        S_list = np.exp(np.log(S) + (r - q - 0.5 * sigma ** 2) * (j) * dt + \\\n",
    "                        np.random.randn(repeat, num) * sigma * (((j) * dt) ** 0.5))\n",
    "        S_ += S_list\n",
    "    V_ = S_ / (n + 1) - K\n",
    "    V_ = V_ * (V_ > 0)\n",
    "    value = np.maximum(np.amax(V_, axis=1), 0) * np.exp(-r * T)\n",
    "    return value.mean(), [value.mean() - 2 * value.std(), value.mean() + 2 * value.std()]"
   ]
  },
  {
   "cell_type": "code",
   "execution_count": 469,
   "metadata": {},
   "outputs": [
    {
     "data": {
      "text/plain": [
       "(5.215292025801697, [4.136153020207686, 6.294431031395707])"
      ]
     },
     "execution_count": 469,
     "metadata": {},
     "output_type": "execute_result"
    }
   ],
   "source": [
    "value_mc(50, 50, 0.1, 0.05, 0.8, 0.25, 100, 100, 50, 0, 10000, 20)"
   ]
  },
  {
   "cell_type": "code",
   "execution_count": null,
   "metadata": {},
   "outputs": [],
   "source": []
  },
  {
   "cell_type": "markdown",
   "metadata": {},
   "source": [
    "## Bonus1"
   ]
  },
  {
   "cell_type": "code",
   "execution_count": 433,
   "metadata": {},
   "outputs": [
    {
     "name": "stderr",
     "output_type": "stream",
     "text": [
      "/usr/local/lib/python3.5/dist-packages/ipykernel_launcher.py:27: RuntimeWarning: invalid value encountered in true_divide\n",
      "/usr/local/lib/python3.5/dist-packages/ipykernel_launcher.py:28: RuntimeWarning: invalid value encountered in true_divide\n",
      "/usr/local/lib/python3.5/dist-packages/ipykernel_launcher.py:29: RuntimeWarning: invalid value encountered in greater\n",
      "/usr/local/lib/python3.5/dist-packages/ipykernel_launcher.py:30: RuntimeWarning: invalid value encountered in greater\n"
     ]
    },
    {
     "ename": "KeyboardInterrupt",
     "evalue": "",
     "output_type": "error",
     "traceback": [
      "\u001b[0;31m---------------------------------------------------------------------------\u001b[0m",
      "\u001b[0;31mKeyboardInterrupt\u001b[0m                         Traceback (most recent call last)",
      "\u001b[0;32m<ipython-input-433-fab22e1d0961>\u001b[0m in \u001b[0;36m<module>\u001b[0;34m()\u001b[0m\n\u001b[1;32m      2\u001b[0m \u001b[0mlogarith\u001b[0m \u001b[0;34m=\u001b[0m \u001b[0;34m[\u001b[0m\u001b[0;34m]\u001b[0m\u001b[0;34m\u001b[0m\u001b[0m\n\u001b[1;32m      3\u001b[0m \u001b[0;32mfor\u001b[0m \u001b[0mi\u001b[0m \u001b[0;32min\u001b[0m \u001b[0mrange\u001b[0m\u001b[0;34m(\u001b[0m\u001b[0;36m10\u001b[0m\u001b[0;34m)\u001b[0m\u001b[0;34m:\u001b[0m\u001b[0;34m\u001b[0m\u001b[0m\n\u001b[0;32m----> 4\u001b[0;31m     \u001b[0mlinear\u001b[0m\u001b[0;34m.\u001b[0m\u001b[0mappend\u001b[0m\u001b[0;34m(\u001b[0m\u001b[0mvalue_bin\u001b[0m\u001b[0;34m(\u001b[0m\u001b[0;36m50\u001b[0m\u001b[0;34m,\u001b[0m \u001b[0;36m50\u001b[0m\u001b[0;34m,\u001b[0m \u001b[0;36m0.1\u001b[0m\u001b[0;34m,\u001b[0m \u001b[0;36m0.05\u001b[0m\u001b[0;34m,\u001b[0m \u001b[0;36m0.8\u001b[0m\u001b[0;34m,\u001b[0m \u001b[0;36m0.25\u001b[0m\u001b[0;34m,\u001b[0m \u001b[0;36m20\u001b[0m\u001b[0;34m*\u001b[0m\u001b[0;34m(\u001b[0m\u001b[0mi\u001b[0m\u001b[0;34m+\u001b[0m\u001b[0;36m1\u001b[0m\u001b[0;34m)\u001b[0m\u001b[0;34m,\u001b[0m \u001b[0;36m100\u001b[0m\u001b[0;34m,\u001b[0m \u001b[0;36m50\u001b[0m\u001b[0;34m,\u001b[0m \u001b[0;36m0\u001b[0m\u001b[0;34m,\u001b[0m \u001b[0;34m\"E\"\u001b[0m\u001b[0;34m)\u001b[0m\u001b[0;34m[\u001b[0m\u001b[0;36m0\u001b[0m\u001b[0;34m]\u001b[0m\u001b[0;34m[\u001b[0m\u001b[0;36m0\u001b[0m\u001b[0;34m]\u001b[0m\u001b[0;34m[\u001b[0m\u001b[0;36m3\u001b[0m\u001b[0;34m]\u001b[0m\u001b[0;34m[\u001b[0m\u001b[0;36m0\u001b[0m\u001b[0;34m]\u001b[0m\u001b[0;34m)\u001b[0m\u001b[0;34m\u001b[0m\u001b[0m\n\u001b[0m",
      "\u001b[0;32m<ipython-input-407-17d2756d5d2f>\u001b[0m in \u001b[0;36mvalue_bin\u001b[0;34m(S, K, r, q, sigma, T, M, n, Save, pass_t, contract, space)\u001b[0m\n\u001b[1;32m     15\u001b[0m                        ])\n\u001b[1;32m     16\u001b[0m         \u001b[0mtree\u001b[0m\u001b[0;34m.\u001b[0m\u001b[0mappend\u001b[0m\u001b[0;34m(\u001b[0m\u001b[0mp_t\u001b[0m\u001b[0;34m)\u001b[0m\u001b[0;34m\u001b[0m\u001b[0m\n\u001b[0;32m---> 17\u001b[0;31m     \u001b[0mvalue\u001b[0m \u001b[0;34m=\u001b[0m \u001b[0mback_induction\u001b[0m\u001b[0;34m(\u001b[0m\u001b[0mtree\u001b[0m\u001b[0;34m,\u001b[0m \u001b[0mS\u001b[0m\u001b[0;34m,\u001b[0m \u001b[0mprob\u001b[0m\u001b[0;34m,\u001b[0m \u001b[0mu\u001b[0m\u001b[0;34m,\u001b[0m \u001b[0md\u001b[0m\u001b[0;34m,\u001b[0m \u001b[0mr\u001b[0m\u001b[0;34m,\u001b[0m \u001b[0mdt\u001b[0m\u001b[0;34m,\u001b[0m \u001b[0mcontract\u001b[0m\u001b[0;34m)\u001b[0m\u001b[0;34m\u001b[0m\u001b[0m\n\u001b[0m\u001b[1;32m     18\u001b[0m     \u001b[0;32mreturn\u001b[0m \u001b[0mvalue\u001b[0m\u001b[0;34m\u001b[0m\u001b[0m\n",
      "\u001b[0;32m<ipython-input-413-4d5b8547dfe2>\u001b[0m in \u001b[0;36mback_induction\u001b[0;34m(p, S, prob, u, d, r, dt, contract)\u001b[0m\n\u001b[1;32m      8\u001b[0m             \u001b[0mAu\u001b[0m \u001b[0;34m=\u001b[0m \u001b[0;34m(\u001b[0m\u001b[0;34m(\u001b[0m\u001b[0mlen\u001b[0m\u001b[0;34m(\u001b[0m\u001b[0mp\u001b[0m\u001b[0;34m)\u001b[0m \u001b[0;34m-\u001b[0m \u001b[0;36m2\u001b[0m \u001b[0;34m-\u001b[0m \u001b[0mi\u001b[0m \u001b[0;34m+\u001b[0m \u001b[0;36m1\u001b[0m\u001b[0;34m)\u001b[0m \u001b[0;34m*\u001b[0m \u001b[0ml\u001b[0m\u001b[0;34m[\u001b[0m\u001b[0mj\u001b[0m\u001b[0;34m]\u001b[0m\u001b[0;34m[\u001b[0m\u001b[0;36m1\u001b[0m\u001b[0;34m]\u001b[0m \u001b[0;34m+\u001b[0m \u001b[0mS\u001b[0m \u001b[0;34m*\u001b[0m \u001b[0;34m(\u001b[0m\u001b[0mu\u001b[0m \u001b[0;34m**\u001b[0m \u001b[0;34m(\u001b[0m\u001b[0mlen\u001b[0m\u001b[0;34m(\u001b[0m\u001b[0mp\u001b[0m\u001b[0;34m)\u001b[0m \u001b[0;34m-\u001b[0m \u001b[0;36m2\u001b[0m \u001b[0;34m-\u001b[0m \u001b[0mi\u001b[0m \u001b[0;34m-\u001b[0m \u001b[0mj\u001b[0m \u001b[0;34m+\u001b[0m \u001b[0;36m1\u001b[0m\u001b[0;34m)\u001b[0m\u001b[0;34m)\u001b[0m \u001b[0;34m*\u001b[0m \u001b[0;34m(\u001b[0m\u001b[0md\u001b[0m \u001b[0;34m**\u001b[0m \u001b[0;34m(\u001b[0m\u001b[0mj\u001b[0m\u001b[0;34m)\u001b[0m\u001b[0;34m)\u001b[0m\u001b[0;34m)\u001b[0m \u001b[0;34m/\u001b[0m \u001b[0;34m(\u001b[0m\u001b[0mlen\u001b[0m\u001b[0;34m(\u001b[0m\u001b[0mp\u001b[0m\u001b[0;34m)\u001b[0m \u001b[0;34m-\u001b[0m \u001b[0;36m2\u001b[0m \u001b[0;34m-\u001b[0m \u001b[0mi\u001b[0m \u001b[0;34m+\u001b[0m \u001b[0;36m2\u001b[0m\u001b[0;34m)\u001b[0m\u001b[0;34m\u001b[0m\u001b[0m\n\u001b[1;32m      9\u001b[0m             \u001b[0mAd\u001b[0m \u001b[0;34m=\u001b[0m \u001b[0;34m(\u001b[0m\u001b[0;34m(\u001b[0m\u001b[0mlen\u001b[0m\u001b[0;34m(\u001b[0m\u001b[0mp\u001b[0m\u001b[0;34m)\u001b[0m \u001b[0;34m-\u001b[0m \u001b[0;36m2\u001b[0m \u001b[0;34m-\u001b[0m \u001b[0mi\u001b[0m \u001b[0;34m+\u001b[0m \u001b[0;36m1\u001b[0m\u001b[0;34m)\u001b[0m \u001b[0;34m*\u001b[0m \u001b[0ml\u001b[0m\u001b[0;34m[\u001b[0m\u001b[0mj\u001b[0m\u001b[0;34m]\u001b[0m\u001b[0;34m[\u001b[0m\u001b[0;36m1\u001b[0m\u001b[0;34m]\u001b[0m \u001b[0;34m+\u001b[0m \u001b[0mS\u001b[0m \u001b[0;34m*\u001b[0m \u001b[0;34m(\u001b[0m\u001b[0mu\u001b[0m \u001b[0;34m**\u001b[0m \u001b[0;34m(\u001b[0m\u001b[0mlen\u001b[0m\u001b[0;34m(\u001b[0m\u001b[0mp\u001b[0m\u001b[0;34m)\u001b[0m \u001b[0;34m-\u001b[0m \u001b[0;36m2\u001b[0m \u001b[0;34m-\u001b[0m \u001b[0mi\u001b[0m \u001b[0;34m-\u001b[0m \u001b[0mj\u001b[0m\u001b[0;34m)\u001b[0m\u001b[0;34m)\u001b[0m \u001b[0;34m*\u001b[0m \u001b[0;34m(\u001b[0m\u001b[0md\u001b[0m \u001b[0;34m**\u001b[0m \u001b[0;34m(\u001b[0m\u001b[0mj\u001b[0m \u001b[0;34m+\u001b[0m \u001b[0;36m1\u001b[0m\u001b[0;34m)\u001b[0m\u001b[0;34m)\u001b[0m\u001b[0;34m)\u001b[0m \u001b[0;34m/\u001b[0m \u001b[0;34m(\u001b[0m\u001b[0mlen\u001b[0m\u001b[0;34m(\u001b[0m\u001b[0mp\u001b[0m\u001b[0;34m)\u001b[0m \u001b[0;34m-\u001b[0m \u001b[0;36m2\u001b[0m \u001b[0;34m-\u001b[0m \u001b[0mi\u001b[0m \u001b[0;34m+\u001b[0m \u001b[0;36m2\u001b[0m\u001b[0;34m)\u001b[0m\u001b[0;34m\u001b[0m\u001b[0m\n\u001b[0;32m---> 10\u001b[0;31m             \u001b[0mu_i\u001b[0m\u001b[0;34m,\u001b[0m \u001b[0mu_i1\u001b[0m\u001b[0;34m,\u001b[0m \u001b[0md_i\u001b[0m\u001b[0;34m,\u001b[0m \u001b[0md_i1\u001b[0m\u001b[0;34m,\u001b[0m \u001b[0mu_w\u001b[0m\u001b[0;34m,\u001b[0m \u001b[0md_w\u001b[0m \u001b[0;34m=\u001b[0m \u001b[0mfind_index\u001b[0m\u001b[0;34m(\u001b[0m\u001b[0mAu\u001b[0m\u001b[0;34m,\u001b[0m \u001b[0mAd\u001b[0m\u001b[0;34m,\u001b[0m \u001b[0ml_u\u001b[0m\u001b[0;34m,\u001b[0m \u001b[0ml_d\u001b[0m\u001b[0;34m)\u001b[0m\u001b[0;34m\u001b[0m\u001b[0m\n\u001b[0m\u001b[1;32m     11\u001b[0m             \u001b[0mCu\u001b[0m \u001b[0;34m=\u001b[0m \u001b[0mu_w\u001b[0m \u001b[0;34m*\u001b[0m \u001b[0ml_next\u001b[0m\u001b[0;34m[\u001b[0m\u001b[0mj\u001b[0m\u001b[0;34m]\u001b[0m\u001b[0;34m[\u001b[0m\u001b[0;34m-\u001b[0m\u001b[0;36m1\u001b[0m\u001b[0;34m]\u001b[0m\u001b[0;34m[\u001b[0m\u001b[0mu_i\u001b[0m\u001b[0;34m]\u001b[0m \u001b[0;34m+\u001b[0m \u001b[0;34m(\u001b[0m\u001b[0;36m1\u001b[0m \u001b[0;34m-\u001b[0m \u001b[0mu_w\u001b[0m\u001b[0;34m)\u001b[0m \u001b[0;34m*\u001b[0m \u001b[0ml_next\u001b[0m\u001b[0;34m[\u001b[0m\u001b[0mj\u001b[0m\u001b[0;34m]\u001b[0m\u001b[0;34m[\u001b[0m\u001b[0;34m-\u001b[0m\u001b[0;36m1\u001b[0m\u001b[0;34m]\u001b[0m\u001b[0;34m[\u001b[0m\u001b[0mu_i1\u001b[0m\u001b[0;34m]\u001b[0m\u001b[0;34m\u001b[0m\u001b[0m\n\u001b[1;32m     12\u001b[0m             \u001b[0mCd\u001b[0m \u001b[0;34m=\u001b[0m \u001b[0md_w\u001b[0m \u001b[0;34m*\u001b[0m \u001b[0ml_next\u001b[0m\u001b[0;34m[\u001b[0m\u001b[0mj\u001b[0m\u001b[0;34m+\u001b[0m\u001b[0;36m1\u001b[0m\u001b[0;34m]\u001b[0m\u001b[0;34m[\u001b[0m\u001b[0;34m-\u001b[0m\u001b[0;36m1\u001b[0m\u001b[0;34m]\u001b[0m\u001b[0;34m[\u001b[0m\u001b[0md_i\u001b[0m\u001b[0;34m]\u001b[0m \u001b[0;34m+\u001b[0m \u001b[0;34m(\u001b[0m\u001b[0;36m1\u001b[0m \u001b[0;34m-\u001b[0m \u001b[0md_w\u001b[0m\u001b[0;34m)\u001b[0m \u001b[0;34m*\u001b[0m \u001b[0ml_next\u001b[0m\u001b[0;34m[\u001b[0m\u001b[0mj\u001b[0m\u001b[0;34m+\u001b[0m\u001b[0;36m1\u001b[0m\u001b[0;34m]\u001b[0m\u001b[0;34m[\u001b[0m\u001b[0;34m-\u001b[0m\u001b[0;36m1\u001b[0m\u001b[0;34m]\u001b[0m\u001b[0;34m[\u001b[0m\u001b[0md_i1\u001b[0m\u001b[0;34m]\u001b[0m\u001b[0;34m\u001b[0m\u001b[0m\n",
      "\u001b[0;32m<ipython-input-415-15eef95edd12>\u001b[0m in \u001b[0;36mfind_index\u001b[0;34m(Au, Ad, A_u, A_d, method)\u001b[0m\n\u001b[1;32m     10\u001b[0m             \u001b[0mu1\u001b[0m \u001b[0;34m=\u001b[0m \u001b[0;36m0\u001b[0m\u001b[0;34m\u001b[0m\u001b[0m\n\u001b[1;32m     11\u001b[0m             \u001b[0mu\u001b[0m \u001b[0;34m=\u001b[0m \u001b[0mlen\u001b[0m\u001b[0;34m(\u001b[0m\u001b[0mA_u\u001b[0m\u001b[0;34m)\u001b[0m \u001b[0;34m-\u001b[0m \u001b[0;36m1\u001b[0m\u001b[0;34m\u001b[0m\u001b[0m\n\u001b[0;32m---> 12\u001b[0;31m             \u001b[0;32mwhile\u001b[0m \u001b[0;34m(\u001b[0m\u001b[0mAu\u001b[0m\u001b[0;34m[\u001b[0m\u001b[0mi\u001b[0m\u001b[0;34m]\u001b[0m \u001b[0;34m<\u001b[0m \u001b[0mA_u\u001b[0m\u001b[0;34m[\u001b[0m\u001b[0mu1\u001b[0m\u001b[0;34m]\u001b[0m\u001b[0;34m)\u001b[0m \u001b[0;32mand\u001b[0m \u001b[0mu1\u001b[0m \u001b[0;34m<\u001b[0m \u001b[0mlen\u001b[0m\u001b[0;34m(\u001b[0m\u001b[0mAu\u001b[0m\u001b[0;34m)\u001b[0m\u001b[0;34m-\u001b[0m\u001b[0;36m1\u001b[0m\u001b[0;34m:\u001b[0m\u001b[0;34m\u001b[0m\u001b[0m\n\u001b[0m\u001b[1;32m     13\u001b[0m                 \u001b[0mu1\u001b[0m \u001b[0;34m=\u001b[0m \u001b[0mu1\u001b[0m \u001b[0;34m+\u001b[0m \u001b[0;36m1\u001b[0m\u001b[0;34m\u001b[0m\u001b[0m\n\u001b[1;32m     14\u001b[0m             \u001b[0mu_i1\u001b[0m\u001b[0;34m.\u001b[0m\u001b[0mappend\u001b[0m\u001b[0;34m(\u001b[0m\u001b[0mu1\u001b[0m\u001b[0;34m)\u001b[0m\u001b[0;34m\u001b[0m\u001b[0m\n",
      "\u001b[0;31mKeyboardInterrupt\u001b[0m: "
     ]
    }
   ],
   "source": [
    "linear = []\n",
    "logarith = []\n",
    "for i in range(10):\n",
    "    linear.append(value_bin(50, 50, 0.1, 0.05, 0.8, 0.25, 20*(i+1), 100, 50, 0, \"E\")[0][0][3][0])"
   ]
  },
  {
   "cell_type": "code",
   "execution_count": null,
   "metadata": {},
   "outputs": [],
   "source": [
    "for i in range(10):\n",
    "    logarith.append(value_bin(50, 50, 0.1, 0.05, 0.8, 0.25, 20*(i+1), 100, 50, 0, \"E\", \"Log\")[0][0][3][0])"
   ]
  },
  {
   "cell_type": "markdown",
   "metadata": {},
   "source": [
    "## Bonus2"
   ]
  },
  {
   "cell_type": "code",
   "execution_count": 447,
   "metadata": {},
   "outputs": [],
   "source": [
    "def binary_search(x, arr):\n",
    "    start = 0\n",
    "    end = int(len(arr) - 1)\n",
    "    while (end - start) > 1:\n",
    "        if x == arr[int(np.floor((start + end) / 2))]:\n",
    "            return int(np.floor((start + end) / 2)), int(np.floor((start + end) / 2))\n",
    "        elif x > arr[int(np.floor((start + end) / 2))]:\n",
    "            start = int(np.floor((start + end) / 2))\n",
    "        else:\n",
    "            end = int(np.floor((start + end) / 2))\n",
    "    return start, end"
   ]
  },
  {
   "cell_type": "code",
   "execution_count": 470,
   "metadata": {},
   "outputs": [
    {
     "name": "stderr",
     "output_type": "stream",
     "text": [
      "/usr/local/lib/python3.5/dist-packages/ipykernel_launcher.py:27: RuntimeWarning: invalid value encountered in true_divide\n",
      "/usr/local/lib/python3.5/dist-packages/ipykernel_launcher.py:29: RuntimeWarning: invalid value encountered in greater\n",
      "/usr/local/lib/python3.5/dist-packages/ipykernel_launcher.py:28: RuntimeWarning: invalid value encountered in true_divide\n",
      "/usr/local/lib/python3.5/dist-packages/ipykernel_launcher.py:30: RuntimeWarning: invalid value encountered in greater\n"
     ]
    },
    {
     "data": {
      "text/plain": [
       "39.63771133635002"
      ]
     },
     "execution_count": 470,
     "metadata": {},
     "output_type": "execute_result"
    }
   ],
   "source": [
    "value_bin(50, 50, 0.1, 0.05, 0.8, 0.25, 100, 100, 50, 0, \"E\", \"B\")[0][0][3][0]"
   ]
  },
  {
   "cell_type": "code",
   "execution_count": null,
   "metadata": {},
   "outputs": [],
   "source": []
  }
 ],
 "metadata": {
  "kernelspec": {
   "display_name": "Python 3",
   "language": "python",
   "name": "python3"
  },
  "language_info": {
   "codemirror_mode": {
    "name": "ipython",
    "version": 3
   },
   "file_extension": ".py",
   "mimetype": "text/x-python",
   "name": "python",
   "nbconvert_exporter": "python",
   "pygments_lexer": "ipython3",
   "version": "3.5.2"
  }
 },
 "nbformat": 4,
 "nbformat_minor": 2
}
